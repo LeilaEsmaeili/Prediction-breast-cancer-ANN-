{
  "cells": [
    {
      "cell_type": "code",
      "execution_count": 1,
      "metadata": {
        "id": "g0BEVkAO6rWm",
        "colab": {
          "base_uri": "https://localhost:8080/"
        },
        "outputId": "bb6a3163-e221-4a44-e4e4-a083839b4a16"
      },
      "outputs": [
        {
          "output_type": "stream",
          "name": "stdout",
          "text": [
            "Mounted at /content/drive\n"
          ]
        }
      ],
      "source": [
        "from google.colab import drive\n",
        "drive.mount('/content/drive')"
      ]
    },
    {
      "cell_type": "code",
      "execution_count": 2,
      "metadata": {
        "colab": {
          "base_uri": "https://localhost:8080/"
        },
        "id": "PmFWT7r18V5N",
        "outputId": "dfbd7453-2b1f-4e66-fd36-0ff2e7c67ded"
      },
      "outputs": [
        {
          "output_type": "stream",
          "name": "stdout",
          "text": [
            "Collecting ucimlrepo\n",
            "  Downloading ucimlrepo-0.0.7-py3-none-any.whl (8.0 kB)\n",
            "Requirement already satisfied: pandas>=1.0.0 in /usr/local/lib/python3.10/dist-packages (from ucimlrepo) (2.0.3)\n",
            "Requirement already satisfied: certifi>=2020.12.5 in /usr/local/lib/python3.10/dist-packages (from ucimlrepo) (2024.2.2)\n",
            "Requirement already satisfied: python-dateutil>=2.8.2 in /usr/local/lib/python3.10/dist-packages (from pandas>=1.0.0->ucimlrepo) (2.8.2)\n",
            "Requirement already satisfied: pytz>=2020.1 in /usr/local/lib/python3.10/dist-packages (from pandas>=1.0.0->ucimlrepo) (2023.4)\n",
            "Requirement already satisfied: tzdata>=2022.1 in /usr/local/lib/python3.10/dist-packages (from pandas>=1.0.0->ucimlrepo) (2024.1)\n",
            "Requirement already satisfied: numpy>=1.21.0 in /usr/local/lib/python3.10/dist-packages (from pandas>=1.0.0->ucimlrepo) (1.25.2)\n",
            "Requirement already satisfied: six>=1.5 in /usr/local/lib/python3.10/dist-packages (from python-dateutil>=2.8.2->pandas>=1.0.0->ucimlrepo) (1.16.0)\n",
            "Installing collected packages: ucimlrepo\n",
            "Successfully installed ucimlrepo-0.0.7\n"
          ]
        }
      ],
      "source": [
        "pip install ucimlrepo\n"
      ]
    },
    {
      "cell_type": "code",
      "source": [
        "from ucimlrepo import fetch_ucirepo\n",
        "\n",
        "# fetch dataset\n",
        "bc = fetch_ucirepo(id=17)\n",
        "\n",
        "# data (as pandas dataframes)\n",
        "X =bc.data.features\n",
        "y = bc.data.targets\n"
      ],
      "metadata": {
        "id": "dv-e88R8w2xT"
      },
      "execution_count": 16,
      "outputs": []
    },
    {
      "cell_type": "markdown",
      "metadata": {
        "id": "r0lQOTHfcFkn"
      },
      "source": [
        "#Dataset Info"
      ]
    },
    {
      "cell_type": "code",
      "execution_count": 4,
      "metadata": {
        "colab": {
          "base_uri": "https://localhost:8080/"
        },
        "id": "ZXEirwL1cLIM",
        "outputId": "4b17595e-974d-4faa-a5c0-2c7297c27779"
      },
      "outputs": [
        {
          "output_type": "stream",
          "name": "stdout",
          "text": [
            "Metadata of the Dataset:\n",
            "{'uci_id': 17, 'name': 'Breast Cancer Wisconsin (Diagnostic)', 'repository_url': 'https://archive.ics.uci.edu/dataset/17/breast+cancer+wisconsin+diagnostic', 'data_url': 'https://archive.ics.uci.edu/static/public/17/data.csv', 'abstract': 'Diagnostic Wisconsin Breast Cancer Database.', 'area': 'Health and Medicine', 'tasks': ['Classification'], 'characteristics': ['Multivariate'], 'num_instances': 569, 'num_features': 30, 'feature_types': ['Real'], 'demographics': [], 'target_col': ['Diagnosis'], 'index_col': ['ID'], 'has_missing_values': 'no', 'missing_values_symbol': None, 'year_of_dataset_creation': 1993, 'last_updated': 'Fri Nov 03 2023', 'dataset_doi': '10.24432/C5DW2B', 'creators': ['William Wolberg', 'Olvi Mangasarian', 'Nick Street', 'W. Street'], 'intro_paper': {'title': 'Nuclear feature extraction for breast tumor diagnosis', 'authors': 'W. Street, W. Wolberg, O. Mangasarian', 'published_in': 'Electronic imaging', 'year': 1993, 'url': 'https://www.semanticscholar.org/paper/53f0fbb425bc14468eb3bf96b2e1d41ba8087f36', 'doi': '10.1117/12.148698'}, 'additional_info': {'summary': 'Features are computed from a digitized image of a fine needle aspirate (FNA) of a breast mass.  They describe characteristics of the cell nuclei present in the image. A few of the images can be found at http://www.cs.wisc.edu/~street/images/\\r\\n\\r\\nSeparating plane described above was obtained using Multisurface Method-Tree (MSM-T) [K. P. Bennett, \"Decision Tree Construction Via Linear Programming.\" Proceedings of the 4th Midwest Artificial Intelligence and Cognitive Science Society, pp. 97-101, 1992], a classification method which uses linear programming to construct a decision tree.  Relevant features were selected using an exhaustive search in the space of 1-4 features and 1-3 separating planes.\\r\\n\\r\\nThe actual linear program used to obtain the separating plane in the 3-dimensional space is that described in: [K. P. Bennett and O. L. Mangasarian: \"Robust Linear Programming Discrimination of Two Linearly Inseparable Sets\", Optimization Methods and Software 1, 1992, 23-34].\\r\\n\\r\\nThis database is also available through the UW CS ftp server:\\r\\nftp ftp.cs.wisc.edu\\r\\ncd math-prog/cpo-dataset/machine-learn/WDBC/', 'purpose': None, 'funded_by': None, 'instances_represent': None, 'recommended_data_splits': None, 'sensitive_data': None, 'preprocessing_description': None, 'variable_info': '1) ID number\\r\\n2) Diagnosis (M = malignant, B = benign)\\r\\n3-32)\\r\\n\\r\\nTen real-valued features are computed for each cell nucleus:\\r\\n\\r\\n\\ta) radius (mean of distances from center to points on the perimeter)\\r\\n\\tb) texture (standard deviation of gray-scale values)\\r\\n\\tc) perimeter\\r\\n\\td) area\\r\\n\\te) smoothness (local variation in radius lengths)\\r\\n\\tf) compactness (perimeter^2 / area - 1.0)\\r\\n\\tg) concavity (severity of concave portions of the contour)\\r\\n\\th) concave points (number of concave portions of the contour)\\r\\n\\ti) symmetry \\r\\n\\tj) fractal dimension (\"coastline approximation\" - 1)', 'citation': None}}\n"
          ]
        }
      ],
      "source": [
        "print(\"Metadata of the Dataset:\")\n",
        "print(bc.metadata)\n"
      ]
    },
    {
      "cell_type": "code",
      "source": [
        "print(\"Variable Information:\")\n",
        "print(bc.variables)\n"
      ],
      "metadata": {
        "colab": {
          "base_uri": "https://localhost:8080/"
        },
        "id": "PzP9vRkYyzZa",
        "outputId": "38c1cf12-a050-4cc5-bb82-951235877930"
      },
      "execution_count": 5,
      "outputs": [
        {
          "output_type": "stream",
          "name": "stdout",
          "text": [
            "Variable Information:\n",
            "                  name     role         type demographic description units  \\\n",
            "0                   ID       ID  Categorical        None        None  None   \n",
            "1            Diagnosis   Target  Categorical        None        None  None   \n",
            "2              radius1  Feature   Continuous        None        None  None   \n",
            "3             texture1  Feature   Continuous        None        None  None   \n",
            "4           perimeter1  Feature   Continuous        None        None  None   \n",
            "5                area1  Feature   Continuous        None        None  None   \n",
            "6          smoothness1  Feature   Continuous        None        None  None   \n",
            "7         compactness1  Feature   Continuous        None        None  None   \n",
            "8           concavity1  Feature   Continuous        None        None  None   \n",
            "9      concave_points1  Feature   Continuous        None        None  None   \n",
            "10           symmetry1  Feature   Continuous        None        None  None   \n",
            "11  fractal_dimension1  Feature   Continuous        None        None  None   \n",
            "12             radius2  Feature   Continuous        None        None  None   \n",
            "13            texture2  Feature   Continuous        None        None  None   \n",
            "14          perimeter2  Feature   Continuous        None        None  None   \n",
            "15               area2  Feature   Continuous        None        None  None   \n",
            "16         smoothness2  Feature   Continuous        None        None  None   \n",
            "17        compactness2  Feature   Continuous        None        None  None   \n",
            "18          concavity2  Feature   Continuous        None        None  None   \n",
            "19     concave_points2  Feature   Continuous        None        None  None   \n",
            "20           symmetry2  Feature   Continuous        None        None  None   \n",
            "21  fractal_dimension2  Feature   Continuous        None        None  None   \n",
            "22             radius3  Feature   Continuous        None        None  None   \n",
            "23            texture3  Feature   Continuous        None        None  None   \n",
            "24          perimeter3  Feature   Continuous        None        None  None   \n",
            "25               area3  Feature   Continuous        None        None  None   \n",
            "26         smoothness3  Feature   Continuous        None        None  None   \n",
            "27        compactness3  Feature   Continuous        None        None  None   \n",
            "28          concavity3  Feature   Continuous        None        None  None   \n",
            "29     concave_points3  Feature   Continuous        None        None  None   \n",
            "30           symmetry3  Feature   Continuous        None        None  None   \n",
            "31  fractal_dimension3  Feature   Continuous        None        None  None   \n",
            "\n",
            "   missing_values  \n",
            "0              no  \n",
            "1              no  \n",
            "2              no  \n",
            "3              no  \n",
            "4              no  \n",
            "5              no  \n",
            "6              no  \n",
            "7              no  \n",
            "8              no  \n",
            "9              no  \n",
            "10             no  \n",
            "11             no  \n",
            "12             no  \n",
            "13             no  \n",
            "14             no  \n",
            "15             no  \n",
            "16             no  \n",
            "17             no  \n",
            "18             no  \n",
            "19             no  \n",
            "20             no  \n",
            "21             no  \n",
            "22             no  \n",
            "23             no  \n",
            "24             no  \n",
            "25             no  \n",
            "26             no  \n",
            "27             no  \n",
            "28             no  \n",
            "29             no  \n",
            "30             no  \n",
            "31             no  \n"
          ]
        }
      ]
    },
    {
      "cell_type": "code",
      "execution_count": 6,
      "metadata": {
        "colab": {
          "base_uri": "https://localhost:8080/"
        },
        "id": "UP6_ftazd7SS",
        "outputId": "595f89c8-79c0-4775-8db3-c99c090850b1"
      },
      "outputs": [
        {
          "output_type": "stream",
          "name": "stdout",
          "text": [
            "First few rows of the feature data:\n",
            "   radius1  texture1  perimeter1   area1  smoothness1  compactness1  \\\n",
            "0    17.99     10.38      122.80  1001.0      0.11840       0.27760   \n",
            "1    20.57     17.77      132.90  1326.0      0.08474       0.07864   \n",
            "2    19.69     21.25      130.00  1203.0      0.10960       0.15990   \n",
            "3    11.42     20.38       77.58   386.1      0.14250       0.28390   \n",
            "4    20.29     14.34      135.10  1297.0      0.10030       0.13280   \n",
            "\n",
            "   concavity1  concave_points1  symmetry1  fractal_dimension1  ...  radius3  \\\n",
            "0      0.3001          0.14710     0.2419             0.07871  ...    25.38   \n",
            "1      0.0869          0.07017     0.1812             0.05667  ...    24.99   \n",
            "2      0.1974          0.12790     0.2069             0.05999  ...    23.57   \n",
            "3      0.2414          0.10520     0.2597             0.09744  ...    14.91   \n",
            "4      0.1980          0.10430     0.1809             0.05883  ...    22.54   \n",
            "\n",
            "   texture3  perimeter3   area3  smoothness3  compactness3  concavity3  \\\n",
            "0     17.33      184.60  2019.0       0.1622        0.6656      0.7119   \n",
            "1     23.41      158.80  1956.0       0.1238        0.1866      0.2416   \n",
            "2     25.53      152.50  1709.0       0.1444        0.4245      0.4504   \n",
            "3     26.50       98.87   567.7       0.2098        0.8663      0.6869   \n",
            "4     16.67      152.20  1575.0       0.1374        0.2050      0.4000   \n",
            "\n",
            "   concave_points3  symmetry3  fractal_dimension3  \n",
            "0           0.2654     0.4601             0.11890  \n",
            "1           0.1860     0.2750             0.08902  \n",
            "2           0.2430     0.3613             0.08758  \n",
            "3           0.2575     0.6638             0.17300  \n",
            "4           0.1625     0.2364             0.07678  \n",
            "\n",
            "[5 rows x 30 columns]\n"
          ]
        }
      ],
      "source": [
        "print(\"First few rows of the feature data:\")\n",
        "print(bc.data.features.head())\n"
      ]
    },
    {
      "cell_type": "code",
      "source": [
        "print(\"First few rows of the target data:\")\n",
        "print(bc.data.targets.head(20))"
      ],
      "metadata": {
        "colab": {
          "base_uri": "https://localhost:8080/"
        },
        "id": "UDN5Xgnn0RfN",
        "outputId": "4559c2dc-0c57-4928-907a-36dee039efcd"
      },
      "execution_count": 7,
      "outputs": [
        {
          "output_type": "stream",
          "name": "stdout",
          "text": [
            "First few rows of the target data:\n",
            "   Diagnosis\n",
            "0          M\n",
            "1          M\n",
            "2          M\n",
            "3          M\n",
            "4          M\n",
            "5          M\n",
            "6          M\n",
            "7          M\n",
            "8          M\n",
            "9          M\n",
            "10         M\n",
            "11         M\n",
            "12         M\n",
            "13         M\n",
            "14         M\n",
            "15         M\n",
            "16         M\n",
            "17         M\n",
            "18         M\n",
            "19         B\n"
          ]
        }
      ]
    },
    {
      "cell_type": "code",
      "source": [
        "print(\"Statistical Summary of the Features:\")\n",
        "print(bc.data.features.describe())\n"
      ],
      "metadata": {
        "colab": {
          "base_uri": "https://localhost:8080/"
        },
        "id": "_B5E8B7P0U5t",
        "outputId": "02c28ab2-e2c1-4a0b-fab6-572906a68f81"
      },
      "execution_count": 8,
      "outputs": [
        {
          "output_type": "stream",
          "name": "stdout",
          "text": [
            "Statistical Summary of the Features:\n",
            "          radius1    texture1  perimeter1        area1  smoothness1  \\\n",
            "count  569.000000  569.000000  569.000000   569.000000   569.000000   \n",
            "mean    14.127292   19.289649   91.969033   654.889104     0.096360   \n",
            "std      3.524049    4.301036   24.298981   351.914129     0.014064   \n",
            "min      6.981000    9.710000   43.790000   143.500000     0.052630   \n",
            "25%     11.700000   16.170000   75.170000   420.300000     0.086370   \n",
            "50%     13.370000   18.840000   86.240000   551.100000     0.095870   \n",
            "75%     15.780000   21.800000  104.100000   782.700000     0.105300   \n",
            "max     28.110000   39.280000  188.500000  2501.000000     0.163400   \n",
            "\n",
            "       compactness1  concavity1  concave_points1   symmetry1  \\\n",
            "count    569.000000  569.000000       569.000000  569.000000   \n",
            "mean       0.104341    0.088799         0.048919    0.181162   \n",
            "std        0.052813    0.079720         0.038803    0.027414   \n",
            "min        0.019380    0.000000         0.000000    0.106000   \n",
            "25%        0.064920    0.029560         0.020310    0.161900   \n",
            "50%        0.092630    0.061540         0.033500    0.179200   \n",
            "75%        0.130400    0.130700         0.074000    0.195700   \n",
            "max        0.345400    0.426800         0.201200    0.304000   \n",
            "\n",
            "       fractal_dimension1  ...     radius3    texture3  perimeter3  \\\n",
            "count          569.000000  ...  569.000000  569.000000  569.000000   \n",
            "mean             0.062798  ...   16.269190   25.677223  107.261213   \n",
            "std              0.007060  ...    4.833242    6.146258   33.602542   \n",
            "min              0.049960  ...    7.930000   12.020000   50.410000   \n",
            "25%              0.057700  ...   13.010000   21.080000   84.110000   \n",
            "50%              0.061540  ...   14.970000   25.410000   97.660000   \n",
            "75%              0.066120  ...   18.790000   29.720000  125.400000   \n",
            "max              0.097440  ...   36.040000   49.540000  251.200000   \n",
            "\n",
            "             area3  smoothness3  compactness3  concavity3  concave_points3  \\\n",
            "count   569.000000   569.000000    569.000000  569.000000       569.000000   \n",
            "mean    880.583128     0.132369      0.254265    0.272188         0.114606   \n",
            "std     569.356993     0.022832      0.157336    0.208624         0.065732   \n",
            "min     185.200000     0.071170      0.027290    0.000000         0.000000   \n",
            "25%     515.300000     0.116600      0.147200    0.114500         0.064930   \n",
            "50%     686.500000     0.131300      0.211900    0.226700         0.099930   \n",
            "75%    1084.000000     0.146000      0.339100    0.382900         0.161400   \n",
            "max    4254.000000     0.222600      1.058000    1.252000         0.291000   \n",
            "\n",
            "        symmetry3  fractal_dimension3  \n",
            "count  569.000000          569.000000  \n",
            "mean     0.290076            0.083946  \n",
            "std      0.061867            0.018061  \n",
            "min      0.156500            0.055040  \n",
            "25%      0.250400            0.071460  \n",
            "50%      0.282200            0.080040  \n",
            "75%      0.317900            0.092080  \n",
            "max      0.663800            0.207500  \n",
            "\n",
            "[8 rows x 30 columns]\n"
          ]
        }
      ]
    },
    {
      "cell_type": "code",
      "source": [
        "print(bc.data.features.columns)"
      ],
      "metadata": {
        "colab": {
          "base_uri": "https://localhost:8080/"
        },
        "id": "RvD1phbn6wbx",
        "outputId": "ad6730b8-afcf-46d0-d16e-b3763d85aff3"
      },
      "execution_count": 9,
      "outputs": [
        {
          "output_type": "stream",
          "name": "stdout",
          "text": [
            "Index(['radius1', 'texture1', 'perimeter1', 'area1', 'smoothness1',\n",
            "       'compactness1', 'concavity1', 'concave_points1', 'symmetry1',\n",
            "       'fractal_dimension1', 'radius2', 'texture2', 'perimeter2', 'area2',\n",
            "       'smoothness2', 'compactness2', 'concavity2', 'concave_points2',\n",
            "       'symmetry2', 'fractal_dimension2', 'radius3', 'texture3', 'perimeter3',\n",
            "       'area3', 'smoothness3', 'compactness3', 'concavity3', 'concave_points3',\n",
            "       'symmetry3', 'fractal_dimension3'],\n",
            "      dtype='object')\n"
          ]
        }
      ]
    },
    {
      "cell_type": "markdown",
      "metadata": {
        "id": "blH-p9x4Bo_V"
      },
      "source": [
        "#Preprocessing"
      ]
    },
    {
      "cell_type": "code",
      "source": [
        "import numpy as np\n",
        "print(bc.data.features.isnull().sum())            #Data Cleananig\n"
      ],
      "metadata": {
        "colab": {
          "base_uri": "https://localhost:8080/"
        },
        "id": "nnJeBRMp5WDK",
        "outputId": "1b13908f-3e1d-4552-a5f3-026da5fda2ca"
      },
      "execution_count": 17,
      "outputs": [
        {
          "output_type": "stream",
          "name": "stdout",
          "text": [
            "radius1               0\n",
            "texture1              0\n",
            "perimeter1            0\n",
            "area1                 0\n",
            "smoothness1           0\n",
            "compactness1          0\n",
            "concavity1            0\n",
            "concave_points1       0\n",
            "symmetry1             0\n",
            "fractal_dimension1    0\n",
            "radius2               0\n",
            "texture2              0\n",
            "perimeter2            0\n",
            "area2                 0\n",
            "smoothness2           0\n",
            "compactness2          0\n",
            "concavity2            0\n",
            "concave_points2       0\n",
            "symmetry2             0\n",
            "fractal_dimension2    0\n",
            "radius3               0\n",
            "texture3              0\n",
            "perimeter3            0\n",
            "area3                 0\n",
            "smoothness3           0\n",
            "compactness3          0\n",
            "concavity3            0\n",
            "concave_points3       0\n",
            "symmetry3             0\n",
            "fractal_dimension3    0\n",
            "dtype: int64\n"
          ]
        }
      ]
    },
    {
      "cell_type": "code",
      "source": [
        "from sklearn.preprocessing import LabelEncoder          #Categorical Data Encoding\n",
        "\n",
        "encoder=LabelEncoder()\n",
        "bc.data.targets=encoder.fit_transform(bc.data.targets)\n",
        "print(bc.data.targets)"
      ],
      "metadata": {
        "colab": {
          "base_uri": "https://localhost:8080/"
        },
        "id": "Z7XXlOfJ65ti",
        "outputId": "73ad8097-23b5-4085-d62d-cbcd644377a0"
      },
      "execution_count": 18,
      "outputs": [
        {
          "output_type": "stream",
          "name": "stdout",
          "text": [
            "[1 1 1 1 1 1 1 1 1 1 1 1 1 1 1 1 1 1 1 0 0 0 1 1 1 1 1 1 1 1 1 1 1 1 1 1 1\n",
            " 0 1 1 1 1 1 1 1 1 0 1 0 0 0 0 0 1 1 0 1 1 0 0 0 0 1 0 1 1 0 0 0 0 1 0 1 1\n",
            " 0 1 0 1 1 0 0 0 1 1 0 1 1 1 0 0 0 1 0 0 1 1 0 0 0 1 1 0 0 0 0 1 0 0 1 0 0\n",
            " 0 0 0 0 0 0 1 1 1 0 1 1 0 0 0 1 1 0 1 0 1 1 0 1 1 0 0 1 0 0 1 0 0 0 0 1 0\n",
            " 0 0 0 0 0 0 0 0 1 0 0 0 0 1 1 0 1 0 0 1 1 0 0 1 1 0 0 0 0 1 0 0 1 1 1 0 1\n",
            " 0 1 0 0 0 1 0 0 1 1 0 1 1 1 1 0 1 1 1 0 1 0 1 0 0 1 0 1 1 1 1 0 0 1 1 0 0\n",
            " 0 1 0 0 0 0 0 1 1 0 0 1 0 0 1 1 0 1 0 0 0 0 1 0 0 0 0 0 1 0 1 1 1 1 1 1 1\n",
            " 1 1 1 1 1 1 1 0 0 0 0 0 0 1 0 1 0 0 1 0 0 1 0 1 1 0 0 0 0 0 0 0 0 0 0 0 0\n",
            " 0 1 0 0 1 0 1 0 0 0 0 0 0 0 0 0 0 0 0 0 0 1 0 0 0 1 0 1 0 0 0 0 1 1 1 0 0\n",
            " 0 0 1 0 1 0 1 0 0 0 1 0 0 0 0 0 0 0 1 1 1 0 0 0 0 0 0 0 0 0 0 0 1 1 0 1 1\n",
            " 1 0 1 1 0 0 0 0 0 1 0 0 0 0 0 1 0 0 0 1 0 0 1 1 0 0 0 0 0 0 1 0 0 0 0 0 0\n",
            " 0 1 0 0 0 0 0 1 0 0 1 0 0 0 0 0 0 0 0 0 0 0 0 1 0 1 1 0 1 0 0 0 0 0 1 0 0\n",
            " 1 0 1 0 0 1 0 1 0 0 0 0 0 0 0 0 1 1 0 0 0 0 0 0 1 0 0 0 0 0 0 0 0 0 0 1 0\n",
            " 0 0 0 0 0 0 1 0 1 0 0 1 0 0 0 0 0 1 1 0 1 0 1 0 0 0 0 0 1 0 0 1 0 1 0 1 1\n",
            " 0 0 0 1 0 0 0 0 0 0 0 0 0 0 0 1 0 1 1 0 0 0 0 0 0 0 0 0 0 0 0 0 0 0 0 0 0\n",
            " 0 0 0 0 0 0 0 1 1 1 1 1 1 0]\n"
          ]
        },
        {
          "output_type": "stream",
          "name": "stderr",
          "text": [
            "/usr/local/lib/python3.10/dist-packages/sklearn/preprocessing/_label.py:116: DataConversionWarning: A column-vector y was passed when a 1d array was expected. Please change the shape of y to (n_samples, ), for example using ravel().\n",
            "  y = column_or_1d(y, warn=True)\n"
          ]
        }
      ]
    },
    {
      "cell_type": "code",
      "source": [
        "from sklearn.preprocessing import StandardScaler                  #Normalization\n",
        "scaler=StandardScaler()\n",
        "bc.data.features=scaler.fit_transform(bc.data.features)"
      ],
      "metadata": {
        "id": "OTqLw6oJ8okf"
      },
      "execution_count": 19,
      "outputs": []
    },
    {
      "cell_type": "code",
      "source": [
        "from sklearn.model_selection import train_test_split                     #Data Splitting\n",
        "\n",
        "X_train, X_test, y_train, y_test = train_test_split(bc.data.features, bc.data.targets, test_size=0.2)"
      ],
      "metadata": {
        "id": "eUC6d7dsVBxd"
      },
      "execution_count": 20,
      "outputs": []
    },
    {
      "cell_type": "code",
      "source": [
        "print(f\"Features:xtrain:{X_train.shape},xtest:{X_test.shape}\")\n",
        "print(f\"Labels:xtrain:{y_train.shape},xtest:{y_test.shape}\")"
      ],
      "metadata": {
        "colab": {
          "base_uri": "https://localhost:8080/"
        },
        "id": "GT5CY6jhXyre",
        "outputId": "4169f43f-2041-433e-dfb6-5a3fd499070b"
      },
      "execution_count": 21,
      "outputs": [
        {
          "output_type": "stream",
          "name": "stdout",
          "text": [
            "Features:xtrain:(455, 30),xtest:(114, 30)\n",
            "Labels:xtrain:(455,),xtest:(114,)\n"
          ]
        }
      ]
    },
    {
      "cell_type": "markdown",
      "source": [
        "#Optuna"
      ],
      "metadata": {
        "id": "d2gEXUiIpcDZ"
      }
    },
    {
      "cell_type": "code",
      "source": [
        "pip install optuna"
      ],
      "metadata": {
        "colab": {
          "base_uri": "https://localhost:8080/"
        },
        "id": "RMaLjjdCV9h0",
        "outputId": "774b57e8-c011-4104-da85-95049fa99c2d"
      },
      "execution_count": 22,
      "outputs": [
        {
          "output_type": "stream",
          "name": "stdout",
          "text": [
            "Collecting optuna\n",
            "  Downloading optuna-3.6.1-py3-none-any.whl (380 kB)\n",
            "\u001b[?25l     \u001b[90m━━━━━━━━━━━━━━━━━━━━━━━━━━━━━━━━━━━━━━━━\u001b[0m \u001b[32m0.0/380.1 kB\u001b[0m \u001b[31m?\u001b[0m eta \u001b[36m-:--:--\u001b[0m\r\u001b[2K     \u001b[91m━━━━━━━━━━━━━━━━━━━━━━━━━━\u001b[0m\u001b[91m╸\u001b[0m\u001b[90m━━━━━━━━━━━━━\u001b[0m \u001b[32m256.0/380.1 kB\u001b[0m \u001b[31m7.5 MB/s\u001b[0m eta \u001b[36m0:00:01\u001b[0m\r\u001b[2K     \u001b[90m━━━━━━━━━━━━━━━━━━━━━━━━━━━━━━━━━━━━━━━━\u001b[0m \u001b[32m380.1/380.1 kB\u001b[0m \u001b[31m7.4 MB/s\u001b[0m eta \u001b[36m0:00:00\u001b[0m\n",
            "\u001b[?25hCollecting alembic>=1.5.0 (from optuna)\n",
            "  Downloading alembic-1.13.1-py3-none-any.whl (233 kB)\n",
            "\u001b[2K     \u001b[90m━━━━━━━━━━━━━━━━━━━━━━━━━━━━━━━━━━━━━━━━\u001b[0m \u001b[32m233.4/233.4 kB\u001b[0m \u001b[31m27.5 MB/s\u001b[0m eta \u001b[36m0:00:00\u001b[0m\n",
            "\u001b[?25hCollecting colorlog (from optuna)\n",
            "  Downloading colorlog-6.8.2-py3-none-any.whl (11 kB)\n",
            "Requirement already satisfied: numpy in /usr/local/lib/python3.10/dist-packages (from optuna) (1.25.2)\n",
            "Requirement already satisfied: packaging>=20.0 in /usr/local/lib/python3.10/dist-packages (from optuna) (24.0)\n",
            "Requirement already satisfied: sqlalchemy>=1.3.0 in /usr/local/lib/python3.10/dist-packages (from optuna) (2.0.30)\n",
            "Requirement already satisfied: tqdm in /usr/local/lib/python3.10/dist-packages (from optuna) (4.66.4)\n",
            "Requirement already satisfied: PyYAML in /usr/local/lib/python3.10/dist-packages (from optuna) (6.0.1)\n",
            "Collecting Mako (from alembic>=1.5.0->optuna)\n",
            "  Downloading Mako-1.3.5-py3-none-any.whl (78 kB)\n",
            "\u001b[2K     \u001b[90m━━━━━━━━━━━━━━━━━━━━━━━━━━━━━━━━━━━━━━━━\u001b[0m \u001b[32m78.6/78.6 kB\u001b[0m \u001b[31m13.6 MB/s\u001b[0m eta \u001b[36m0:00:00\u001b[0m\n",
            "\u001b[?25hRequirement already satisfied: typing-extensions>=4 in /usr/local/lib/python3.10/dist-packages (from alembic>=1.5.0->optuna) (4.11.0)\n",
            "Requirement already satisfied: greenlet!=0.4.17 in /usr/local/lib/python3.10/dist-packages (from sqlalchemy>=1.3.0->optuna) (3.0.3)\n",
            "Requirement already satisfied: MarkupSafe>=0.9.2 in /usr/local/lib/python3.10/dist-packages (from Mako->alembic>=1.5.0->optuna) (2.1.5)\n",
            "Installing collected packages: Mako, colorlog, alembic, optuna\n",
            "Successfully installed Mako-1.3.5 alembic-1.13.1 colorlog-6.8.2 optuna-3.6.1\n"
          ]
        }
      ]
    },
    {
      "cell_type": "code",
      "source": [
        "import optuna\n",
        "import tensorflow as tf\n",
        "from sklearn.metrics import accuracy_score\n",
        "from tensorflow.keras.models import Sequential\n",
        "from tensorflow.keras.layers import Dense, Dropout\n",
        "from sklearn.model_selection import StratifiedKFold\n",
        "\n",
        "def objective(trial):\n",
        "    num_neurons = trial.suggest_int('num_neurons', 5, 100)\n",
        "    dropout_rate = trial.suggest_uniform('dropout_rate', 0.0, 0.5)\n",
        "    learning_rate = trial.suggest_loguniform('learning_rate', 1e-5, 1e-1)\n",
        "\n",
        "    # Keras Model\n",
        "    model = tf.keras.models.Sequential([\n",
        "        tf.keras.layers.Dense(num_neurons, activation='relu', input_shape=(X_train.shape[1],)),\n",
        "        tf.keras.layers.Dropout(dropout_rate),\n",
        "        tf.keras.layers.Dense(1, activation='sigmoid')\n",
        "    ])\n",
        "\n",
        "    # Compile & Optimize\n",
        "    model.compile(optimizer=tf.keras.optimizers.Adam(learning_rate=learning_rate),\n",
        "                  loss='binary_crossentropy',\n",
        "                  metrics=['accuracy'])\n",
        "\n",
        "    # cross-validation\n",
        "    kf = StratifiedKFold(n_splits=5, shuffle=True, random_state=42)\n",
        "    accuracies = []\n",
        "\n",
        "    for train_index, test_index in kf.split(X_train, y_train):\n",
        "        X_train_fold, X_test_fold = X_train[train_index], X_train[test_index]\n",
        "        y_train_fold, y_test_fold = y_train[train_index], y_train[test_index]\n",
        "\n",
        "   # Train Model\n",
        "        model.fit(X_train_fold, y_train_fold, epochs=50, batch_size=32, verbose=0)\n",
        "\n",
        "   # Evaluation\n",
        "        _, accuracy = model.evaluate(X_test_fold, y_test_fold, verbose=0)\n",
        "        accuracies.append(accuracy)\n",
        "    return np.mean(accuracies)\n"
      ],
      "metadata": {
        "id": "tgEBvlfoVHaa"
      },
      "execution_count": 33,
      "outputs": []
    },
    {
      "cell_type": "code",
      "execution_count": 34,
      "metadata": {
        "id": "MQkQ7uWtBuHs",
        "colab": {
          "base_uri": "https://localhost:8080/"
        },
        "outputId": "021fd945-e0b3-4c14-c404-dfff9d791647"
      },
      "outputs": [
        {
          "output_type": "stream",
          "name": "stderr",
          "text": [
            "[I 2024-05-29 21:39:55,306] A new study created in memory with name: no-name-4cf2b5fe-e903-457f-a141-5cdbc093e143\n",
            "<ipython-input-33-2c37c0ea39dd>:10: FutureWarning: suggest_uniform has been deprecated in v3.0.0. This feature will be removed in v6.0.0. See https://github.com/optuna/optuna/releases/tag/v3.0.0. Use suggest_float instead.\n",
            "  dropout_rate = trial.suggest_uniform('dropout_rate', 0.0, 0.5)\n",
            "<ipython-input-33-2c37c0ea39dd>:11: FutureWarning: suggest_loguniform has been deprecated in v3.0.0. This feature will be removed in v6.0.0. See https://github.com/optuna/optuna/releases/tag/v3.0.0. Use suggest_float(..., log=True) instead.\n",
            "  learning_rate = trial.suggest_loguniform('learning_rate', 1e-5, 1e-1)\n",
            "[I 2024-05-29 21:40:07,391] Trial 0 finished with value: 0.9890109896659851 and parameters: {'num_neurons': 70, 'dropout_rate': 0.48283789753191114, 'learning_rate': 0.0007256265910900627}. Best is trial 0 with value: 0.9890109896659851.\n",
            "<ipython-input-33-2c37c0ea39dd>:10: FutureWarning: suggest_uniform has been deprecated in v3.0.0. This feature will be removed in v6.0.0. See https://github.com/optuna/optuna/releases/tag/v3.0.0. Use suggest_float instead.\n",
            "  dropout_rate = trial.suggest_uniform('dropout_rate', 0.0, 0.5)\n",
            "<ipython-input-33-2c37c0ea39dd>:11: FutureWarning: suggest_loguniform has been deprecated in v3.0.0. This feature will be removed in v6.0.0. See https://github.com/optuna/optuna/releases/tag/v3.0.0. Use suggest_float(..., log=True) instead.\n",
            "  learning_rate = trial.suggest_loguniform('learning_rate', 1e-5, 1e-1)\n",
            "[I 2024-05-29 21:40:16,122] Trial 1 finished with value: 0.9450549483299255 and parameters: {'num_neurons': 5, 'dropout_rate': 0.1756228764151644, 'learning_rate': 0.0001672755613317164}. Best is trial 0 with value: 0.9890109896659851.\n",
            "<ipython-input-33-2c37c0ea39dd>:10: FutureWarning: suggest_uniform has been deprecated in v3.0.0. This feature will be removed in v6.0.0. See https://github.com/optuna/optuna/releases/tag/v3.0.0. Use suggest_float instead.\n",
            "  dropout_rate = trial.suggest_uniform('dropout_rate', 0.0, 0.5)\n",
            "<ipython-input-33-2c37c0ea39dd>:11: FutureWarning: suggest_loguniform has been deprecated in v3.0.0. This feature will be removed in v6.0.0. See https://github.com/optuna/optuna/releases/tag/v3.0.0. Use suggest_float(..., log=True) instead.\n",
            "  learning_rate = trial.suggest_loguniform('learning_rate', 1e-5, 1e-1)\n",
            "[I 2024-05-29 21:40:25,020] Trial 2 finished with value: 0.9890109896659851 and parameters: {'num_neurons': 86, 'dropout_rate': 0.4390356928440934, 'learning_rate': 0.0016655266151126493}. Best is trial 0 with value: 0.9890109896659851.\n",
            "<ipython-input-33-2c37c0ea39dd>:10: FutureWarning: suggest_uniform has been deprecated in v3.0.0. This feature will be removed in v6.0.0. See https://github.com/optuna/optuna/releases/tag/v3.0.0. Use suggest_float instead.\n",
            "  dropout_rate = trial.suggest_uniform('dropout_rate', 0.0, 0.5)\n",
            "<ipython-input-33-2c37c0ea39dd>:11: FutureWarning: suggest_loguniform has been deprecated in v3.0.0. This feature will be removed in v6.0.0. See https://github.com/optuna/optuna/releases/tag/v3.0.0. Use suggest_float(..., log=True) instead.\n",
            "  learning_rate = trial.suggest_loguniform('learning_rate', 1e-5, 1e-1)\n",
            "[I 2024-05-29 21:40:34,004] Trial 3 finished with value: 0.9912087917327881 and parameters: {'num_neurons': 48, 'dropout_rate': 0.15632793450402183, 'learning_rate': 0.0004068558262401734}. Best is trial 3 with value: 0.9912087917327881.\n",
            "<ipython-input-33-2c37c0ea39dd>:10: FutureWarning: suggest_uniform has been deprecated in v3.0.0. This feature will be removed in v6.0.0. See https://github.com/optuna/optuna/releases/tag/v3.0.0. Use suggest_float instead.\n",
            "  dropout_rate = trial.suggest_uniform('dropout_rate', 0.0, 0.5)\n",
            "<ipython-input-33-2c37c0ea39dd>:11: FutureWarning: suggest_loguniform has been deprecated in v3.0.0. This feature will be removed in v6.0.0. See https://github.com/optuna/optuna/releases/tag/v3.0.0. Use suggest_float(..., log=True) instead.\n",
            "  learning_rate = trial.suggest_loguniform('learning_rate', 1e-5, 1e-1)\n",
            "[I 2024-05-29 21:40:42,859] Trial 4 finished with value: 0.9824175834655762 and parameters: {'num_neurons': 11, 'dropout_rate': 0.20325755229960613, 'learning_rate': 0.040040461988847524}. Best is trial 3 with value: 0.9912087917327881.\n",
            "<ipython-input-33-2c37c0ea39dd>:10: FutureWarning: suggest_uniform has been deprecated in v3.0.0. This feature will be removed in v6.0.0. See https://github.com/optuna/optuna/releases/tag/v3.0.0. Use suggest_float instead.\n",
            "  dropout_rate = trial.suggest_uniform('dropout_rate', 0.0, 0.5)\n",
            "<ipython-input-33-2c37c0ea39dd>:11: FutureWarning: suggest_loguniform has been deprecated in v3.0.0. This feature will be removed in v6.0.0. See https://github.com/optuna/optuna/releases/tag/v3.0.0. Use suggest_float(..., log=True) instead.\n",
            "  learning_rate = trial.suggest_loguniform('learning_rate', 1e-5, 1e-1)\n",
            "[I 2024-05-29 21:40:51,627] Trial 5 finished with value: 0.995604395866394 and parameters: {'num_neurons': 78, 'dropout_rate': 0.017672940265103576, 'learning_rate': 0.01245459753309379}. Best is trial 5 with value: 0.995604395866394.\n",
            "<ipython-input-33-2c37c0ea39dd>:10: FutureWarning: suggest_uniform has been deprecated in v3.0.0. This feature will be removed in v6.0.0. See https://github.com/optuna/optuna/releases/tag/v3.0.0. Use suggest_float instead.\n",
            "  dropout_rate = trial.suggest_uniform('dropout_rate', 0.0, 0.5)\n",
            "<ipython-input-33-2c37c0ea39dd>:11: FutureWarning: suggest_loguniform has been deprecated in v3.0.0. This feature will be removed in v6.0.0. See https://github.com/optuna/optuna/releases/tag/v3.0.0. Use suggest_float(..., log=True) instead.\n",
            "  learning_rate = trial.suggest_loguniform('learning_rate', 1e-5, 1e-1)\n",
            "[I 2024-05-29 21:41:00,337] Trial 6 finished with value: 0.9868131875991821 and parameters: {'num_neurons': 11, 'dropout_rate': 0.42408824234823, 'learning_rate': 0.034384904966101706}. Best is trial 5 with value: 0.995604395866394.\n",
            "<ipython-input-33-2c37c0ea39dd>:10: FutureWarning: suggest_uniform has been deprecated in v3.0.0. This feature will be removed in v6.0.0. See https://github.com/optuna/optuna/releases/tag/v3.0.0. Use suggest_float instead.\n",
            "  dropout_rate = trial.suggest_uniform('dropout_rate', 0.0, 0.5)\n",
            "<ipython-input-33-2c37c0ea39dd>:11: FutureWarning: suggest_loguniform has been deprecated in v3.0.0. This feature will be removed in v6.0.0. See https://github.com/optuna/optuna/releases/tag/v3.0.0. Use suggest_float(..., log=True) instead.\n",
            "  learning_rate = trial.suggest_loguniform('learning_rate', 1e-5, 1e-1)\n",
            "[I 2024-05-29 21:41:09,112] Trial 7 finished with value: 0.9780219793319702 and parameters: {'num_neurons': 22, 'dropout_rate': 0.4339969027121603, 'learning_rate': 0.08932497586269592}. Best is trial 5 with value: 0.995604395866394.\n",
            "<ipython-input-33-2c37c0ea39dd>:10: FutureWarning: suggest_uniform has been deprecated in v3.0.0. This feature will be removed in v6.0.0. See https://github.com/optuna/optuna/releases/tag/v3.0.0. Use suggest_float instead.\n",
            "  dropout_rate = trial.suggest_uniform('dropout_rate', 0.0, 0.5)\n",
            "<ipython-input-33-2c37c0ea39dd>:11: FutureWarning: suggest_loguniform has been deprecated in v3.0.0. This feature will be removed in v6.0.0. See https://github.com/optuna/optuna/releases/tag/v3.0.0. Use suggest_float(..., log=True) instead.\n",
            "  learning_rate = trial.suggest_loguniform('learning_rate', 1e-5, 1e-1)\n",
            "[I 2024-05-29 21:41:17,810] Trial 8 finished with value: 0.9824175834655762 and parameters: {'num_neurons': 11, 'dropout_rate': 0.18055131023510818, 'learning_rate': 0.04546783581543236}. Best is trial 5 with value: 0.995604395866394.\n",
            "<ipython-input-33-2c37c0ea39dd>:10: FutureWarning: suggest_uniform has been deprecated in v3.0.0. This feature will be removed in v6.0.0. See https://github.com/optuna/optuna/releases/tag/v3.0.0. Use suggest_float instead.\n",
            "  dropout_rate = trial.suggest_uniform('dropout_rate', 0.0, 0.5)\n",
            "<ipython-input-33-2c37c0ea39dd>:11: FutureWarning: suggest_loguniform has been deprecated in v3.0.0. This feature will be removed in v6.0.0. See https://github.com/optuna/optuna/releases/tag/v3.0.0. Use suggest_float(..., log=True) instead.\n",
            "  learning_rate = trial.suggest_loguniform('learning_rate', 1e-5, 1e-1)\n",
            "[I 2024-05-29 21:41:26,668] Trial 9 finished with value: 0.9824175834655762 and parameters: {'num_neurons': 53, 'dropout_rate': 0.12554739877720966, 'learning_rate': 0.00016779509976856663}. Best is trial 5 with value: 0.995604395866394.\n",
            "<ipython-input-33-2c37c0ea39dd>:10: FutureWarning: suggest_uniform has been deprecated in v3.0.0. This feature will be removed in v6.0.0. See https://github.com/optuna/optuna/releases/tag/v3.0.0. Use suggest_float instead.\n",
            "  dropout_rate = trial.suggest_uniform('dropout_rate', 0.0, 0.5)\n",
            "<ipython-input-33-2c37c0ea39dd>:11: FutureWarning: suggest_loguniform has been deprecated in v3.0.0. This feature will be removed in v6.0.0. See https://github.com/optuna/optuna/releases/tag/v3.0.0. Use suggest_float(..., log=True) instead.\n",
            "  learning_rate = trial.suggest_loguniform('learning_rate', 1e-5, 1e-1)\n",
            "[I 2024-05-29 21:41:36,006] Trial 10 finished with value: 0.9296703338623047 and parameters: {'num_neurons': 97, 'dropout_rate': 0.009547696015934692, 'learning_rate': 1.3213181370224293e-05}. Best is trial 5 with value: 0.995604395866394.\n",
            "<ipython-input-33-2c37c0ea39dd>:10: FutureWarning: suggest_uniform has been deprecated in v3.0.0. This feature will be removed in v6.0.0. See https://github.com/optuna/optuna/releases/tag/v3.0.0. Use suggest_float instead.\n",
            "  dropout_rate = trial.suggest_uniform('dropout_rate', 0.0, 0.5)\n",
            "<ipython-input-33-2c37c0ea39dd>:11: FutureWarning: suggest_loguniform has been deprecated in v3.0.0. This feature will be removed in v6.0.0. See https://github.com/optuna/optuna/releases/tag/v3.0.0. Use suggest_float(..., log=True) instead.\n",
            "  learning_rate = trial.suggest_loguniform('learning_rate', 1e-5, 1e-1)\n",
            "[I 2024-05-29 21:41:44,951] Trial 11 finished with value: 0.9890109896659851 and parameters: {'num_neurons': 47, 'dropout_rate': 0.0016150709755198972, 'learning_rate': 0.004420302134647188}. Best is trial 5 with value: 0.995604395866394.\n",
            "<ipython-input-33-2c37c0ea39dd>:10: FutureWarning: suggest_uniform has been deprecated in v3.0.0. This feature will be removed in v6.0.0. See https://github.com/optuna/optuna/releases/tag/v3.0.0. Use suggest_float instead.\n",
            "  dropout_rate = trial.suggest_uniform('dropout_rate', 0.0, 0.5)\n",
            "<ipython-input-33-2c37c0ea39dd>:11: FutureWarning: suggest_loguniform has been deprecated in v3.0.0. This feature will be removed in v6.0.0. See https://github.com/optuna/optuna/releases/tag/v3.0.0. Use suggest_float(..., log=True) instead.\n",
            "  learning_rate = trial.suggest_loguniform('learning_rate', 1e-5, 1e-1)\n",
            "[I 2024-05-29 21:41:53,718] Trial 12 finished with value: 0.9912087917327881 and parameters: {'num_neurons': 48, 'dropout_rate': 0.3105008891258541, 'learning_rate': 0.00638643403790415}. Best is trial 5 with value: 0.995604395866394.\n",
            "<ipython-input-33-2c37c0ea39dd>:10: FutureWarning: suggest_uniform has been deprecated in v3.0.0. This feature will be removed in v6.0.0. See https://github.com/optuna/optuna/releases/tag/v3.0.0. Use suggest_float instead.\n",
            "  dropout_rate = trial.suggest_uniform('dropout_rate', 0.0, 0.5)\n",
            "<ipython-input-33-2c37c0ea39dd>:11: FutureWarning: suggest_loguniform has been deprecated in v3.0.0. This feature will be removed in v6.0.0. See https://github.com/optuna/optuna/releases/tag/v3.0.0. Use suggest_float(..., log=True) instead.\n",
            "  learning_rate = trial.suggest_loguniform('learning_rate', 1e-5, 1e-1)\n",
            "[I 2024-05-29 21:42:02,758] Trial 13 finished with value: 0.9912087917327881 and parameters: {'num_neurons': 67, 'dropout_rate': 0.08515975396325726, 'learning_rate': 0.00029040971117253714}. Best is trial 5 with value: 0.995604395866394.\n",
            "<ipython-input-33-2c37c0ea39dd>:10: FutureWarning: suggest_uniform has been deprecated in v3.0.0. This feature will be removed in v6.0.0. See https://github.com/optuna/optuna/releases/tag/v3.0.0. Use suggest_float instead.\n",
            "  dropout_rate = trial.suggest_uniform('dropout_rate', 0.0, 0.5)\n",
            "<ipython-input-33-2c37c0ea39dd>:11: FutureWarning: suggest_loguniform has been deprecated in v3.0.0. This feature will be removed in v6.0.0. See https://github.com/optuna/optuna/releases/tag/v3.0.0. Use suggest_float(..., log=True) instead.\n",
            "  learning_rate = trial.suggest_loguniform('learning_rate', 1e-5, 1e-1)\n",
            "[I 2024-05-29 21:42:11,696] Trial 14 finished with value: 0.8263736367225647 and parameters: {'num_neurons': 35, 'dropout_rate': 0.30457989161551835, 'learning_rate': 1.3332824396614854e-05}. Best is trial 5 with value: 0.995604395866394.\n",
            "<ipython-input-33-2c37c0ea39dd>:10: FutureWarning: suggest_uniform has been deprecated in v3.0.0. This feature will be removed in v6.0.0. See https://github.com/optuna/optuna/releases/tag/v3.0.0. Use suggest_float instead.\n",
            "  dropout_rate = trial.suggest_uniform('dropout_rate', 0.0, 0.5)\n",
            "<ipython-input-33-2c37c0ea39dd>:11: FutureWarning: suggest_loguniform has been deprecated in v3.0.0. This feature will be removed in v6.0.0. See https://github.com/optuna/optuna/releases/tag/v3.0.0. Use suggest_float(..., log=True) instead.\n",
            "  learning_rate = trial.suggest_loguniform('learning_rate', 1e-5, 1e-1)\n",
            "[I 2024-05-29 21:42:20,581] Trial 15 finished with value: 0.9912087917327881 and parameters: {'num_neurons': 76, 'dropout_rate': 0.07895830383998087, 'learning_rate': 0.005647257940165293}. Best is trial 5 with value: 0.995604395866394.\n",
            "<ipython-input-33-2c37c0ea39dd>:10: FutureWarning: suggest_uniform has been deprecated in v3.0.0. This feature will be removed in v6.0.0. See https://github.com/optuna/optuna/releases/tag/v3.0.0. Use suggest_float instead.\n",
            "  dropout_rate = trial.suggest_uniform('dropout_rate', 0.0, 0.5)\n",
            "<ipython-input-33-2c37c0ea39dd>:11: FutureWarning: suggest_loguniform has been deprecated in v3.0.0. This feature will be removed in v6.0.0. See https://github.com/optuna/optuna/releases/tag/v3.0.0. Use suggest_float(..., log=True) instead.\n",
            "  learning_rate = trial.suggest_loguniform('learning_rate', 1e-5, 1e-1)\n",
            "[I 2024-05-29 21:42:29,430] Trial 16 finished with value: 0.9472527503967285 and parameters: {'num_neurons': 62, 'dropout_rate': 0.26275246324922324, 'learning_rate': 4.3995763158363376e-05}. Best is trial 5 with value: 0.995604395866394.\n",
            "<ipython-input-33-2c37c0ea39dd>:10: FutureWarning: suggest_uniform has been deprecated in v3.0.0. This feature will be removed in v6.0.0. See https://github.com/optuna/optuna/releases/tag/v3.0.0. Use suggest_float instead.\n",
            "  dropout_rate = trial.suggest_uniform('dropout_rate', 0.0, 0.5)\n",
            "<ipython-input-33-2c37c0ea39dd>:11: FutureWarning: suggest_loguniform has been deprecated in v3.0.0. This feature will be removed in v6.0.0. See https://github.com/optuna/optuna/releases/tag/v3.0.0. Use suggest_float(..., log=True) instead.\n",
            "  learning_rate = trial.suggest_loguniform('learning_rate', 1e-5, 1e-1)\n",
            "[I 2024-05-29 21:42:38,174] Trial 17 finished with value: 0.9912087917327881 and parameters: {'num_neurons': 35, 'dropout_rate': 0.0620730694425099, 'learning_rate': 0.012229617782629727}. Best is trial 5 with value: 0.995604395866394.\n",
            "<ipython-input-33-2c37c0ea39dd>:10: FutureWarning: suggest_uniform has been deprecated in v3.0.0. This feature will be removed in v6.0.0. See https://github.com/optuna/optuna/releases/tag/v3.0.0. Use suggest_float instead.\n",
            "  dropout_rate = trial.suggest_uniform('dropout_rate', 0.0, 0.5)\n",
            "<ipython-input-33-2c37c0ea39dd>:11: FutureWarning: suggest_loguniform has been deprecated in v3.0.0. This feature will be removed in v6.0.0. See https://github.com/optuna/optuna/releases/tag/v3.0.0. Use suggest_float(..., log=True) instead.\n",
            "  learning_rate = trial.suggest_loguniform('learning_rate', 1e-5, 1e-1)\n",
            "[I 2024-05-29 21:42:47,049] Trial 18 finished with value: 0.9890109896659851 and parameters: {'num_neurons': 86, 'dropout_rate': 0.1281160160792775, 'learning_rate': 0.001309571747959797}. Best is trial 5 with value: 0.995604395866394.\n",
            "<ipython-input-33-2c37c0ea39dd>:10: FutureWarning: suggest_uniform has been deprecated in v3.0.0. This feature will be removed in v6.0.0. See https://github.com/optuna/optuna/releases/tag/v3.0.0. Use suggest_float instead.\n",
            "  dropout_rate = trial.suggest_uniform('dropout_rate', 0.0, 0.5)\n",
            "<ipython-input-33-2c37c0ea39dd>:11: FutureWarning: suggest_loguniform has been deprecated in v3.0.0. This feature will be removed in v6.0.0. See https://github.com/optuna/optuna/releases/tag/v3.0.0. Use suggest_float(..., log=True) instead.\n",
            "  learning_rate = trial.suggest_loguniform('learning_rate', 1e-5, 1e-1)\n",
            "[I 2024-05-29 21:42:55,854] Trial 19 finished with value: 0.9912087917327881 and parameters: {'num_neurons': 59, 'dropout_rate': 0.2303070690762058, 'learning_rate': 0.0006872569685733792}. Best is trial 5 with value: 0.995604395866394.\n",
            "<ipython-input-33-2c37c0ea39dd>:10: FutureWarning: suggest_uniform has been deprecated in v3.0.0. This feature will be removed in v6.0.0. See https://github.com/optuna/optuna/releases/tag/v3.0.0. Use suggest_float instead.\n",
            "  dropout_rate = trial.suggest_uniform('dropout_rate', 0.0, 0.5)\n",
            "<ipython-input-33-2c37c0ea39dd>:11: FutureWarning: suggest_loguniform has been deprecated in v3.0.0. This feature will be removed in v6.0.0. See https://github.com/optuna/optuna/releases/tag/v3.0.0. Use suggest_float(..., log=True) instead.\n",
            "  learning_rate = trial.suggest_loguniform('learning_rate', 1e-5, 1e-1)\n",
            "[I 2024-05-29 21:43:04,624] Trial 20 finished with value: 0.9868131875991821 and parameters: {'num_neurons': 35, 'dropout_rate': 0.04208896256882942, 'learning_rate': 0.014311275776343866}. Best is trial 5 with value: 0.995604395866394.\n",
            "<ipython-input-33-2c37c0ea39dd>:10: FutureWarning: suggest_uniform has been deprecated in v3.0.0. This feature will be removed in v6.0.0. See https://github.com/optuna/optuna/releases/tag/v3.0.0. Use suggest_float instead.\n",
            "  dropout_rate = trial.suggest_uniform('dropout_rate', 0.0, 0.5)\n",
            "<ipython-input-33-2c37c0ea39dd>:11: FutureWarning: suggest_loguniform has been deprecated in v3.0.0. This feature will be removed in v6.0.0. See https://github.com/optuna/optuna/releases/tag/v3.0.0. Use suggest_float(..., log=True) instead.\n",
            "  learning_rate = trial.suggest_loguniform('learning_rate', 1e-5, 1e-1)\n",
            "[I 2024-05-29 21:43:13,587] Trial 21 finished with value: 0.9890109896659851 and parameters: {'num_neurons': 46, 'dropout_rate': 0.30116054039080165, 'learning_rate': 0.003287045216550927}. Best is trial 5 with value: 0.995604395866394.\n",
            "<ipython-input-33-2c37c0ea39dd>:10: FutureWarning: suggest_uniform has been deprecated in v3.0.0. This feature will be removed in v6.0.0. See https://github.com/optuna/optuna/releases/tag/v3.0.0. Use suggest_float instead.\n",
            "  dropout_rate = trial.suggest_uniform('dropout_rate', 0.0, 0.5)\n",
            "<ipython-input-33-2c37c0ea39dd>:11: FutureWarning: suggest_loguniform has been deprecated in v3.0.0. This feature will be removed in v6.0.0. See https://github.com/optuna/optuna/releases/tag/v3.0.0. Use suggest_float(..., log=True) instead.\n",
            "  learning_rate = trial.suggest_loguniform('learning_rate', 1e-5, 1e-1)\n",
            "[I 2024-05-29 21:43:22,587] Trial 22 finished with value: 0.9868131875991821 and parameters: {'num_neurons': 44, 'dropout_rate': 0.34291334892355424, 'learning_rate': 0.011234237591148815}. Best is trial 5 with value: 0.995604395866394.\n",
            "<ipython-input-33-2c37c0ea39dd>:10: FutureWarning: suggest_uniform has been deprecated in v3.0.0. This feature will be removed in v6.0.0. See https://github.com/optuna/optuna/releases/tag/v3.0.0. Use suggest_float instead.\n",
            "  dropout_rate = trial.suggest_uniform('dropout_rate', 0.0, 0.5)\n",
            "<ipython-input-33-2c37c0ea39dd>:11: FutureWarning: suggest_loguniform has been deprecated in v3.0.0. This feature will be removed in v6.0.0. See https://github.com/optuna/optuna/releases/tag/v3.0.0. Use suggest_float(..., log=True) instead.\n",
            "  learning_rate = trial.suggest_loguniform('learning_rate', 1e-5, 1e-1)\n",
            "[I 2024-05-29 21:43:31,424] Trial 23 finished with value: 0.9912087917327881 and parameters: {'num_neurons': 55, 'dropout_rate': 0.34978032819961186, 'learning_rate': 0.0030068812439611988}. Best is trial 5 with value: 0.995604395866394.\n",
            "<ipython-input-33-2c37c0ea39dd>:10: FutureWarning: suggest_uniform has been deprecated in v3.0.0. This feature will be removed in v6.0.0. See https://github.com/optuna/optuna/releases/tag/v3.0.0. Use suggest_float instead.\n",
            "  dropout_rate = trial.suggest_uniform('dropout_rate', 0.0, 0.5)\n",
            "<ipython-input-33-2c37c0ea39dd>:11: FutureWarning: suggest_loguniform has been deprecated in v3.0.0. This feature will be removed in v6.0.0. See https://github.com/optuna/optuna/releases/tag/v3.0.0. Use suggest_float(..., log=True) instead.\n",
            "  learning_rate = trial.suggest_loguniform('learning_rate', 1e-5, 1e-1)\n",
            "[I 2024-05-29 21:43:40,191] Trial 24 finished with value: 0.9890109896659851 and parameters: {'num_neurons': 78, 'dropout_rate': 0.13905565111446558, 'learning_rate': 0.00029346138127572834}. Best is trial 5 with value: 0.995604395866394.\n",
            "<ipython-input-33-2c37c0ea39dd>:10: FutureWarning: suggest_uniform has been deprecated in v3.0.0. This feature will be removed in v6.0.0. See https://github.com/optuna/optuna/releases/tag/v3.0.0. Use suggest_float instead.\n",
            "  dropout_rate = trial.suggest_uniform('dropout_rate', 0.0, 0.5)\n",
            "<ipython-input-33-2c37c0ea39dd>:11: FutureWarning: suggest_loguniform has been deprecated in v3.0.0. This feature will be removed in v6.0.0. See https://github.com/optuna/optuna/releases/tag/v3.0.0. Use suggest_float(..., log=True) instead.\n",
            "  learning_rate = trial.suggest_loguniform('learning_rate', 1e-5, 1e-1)\n",
            "[I 2024-05-29 21:43:49,640] Trial 25 finished with value: 0.9538461565971375 and parameters: {'num_neurons': 26, 'dropout_rate': 0.262885109992788, 'learning_rate': 6.17808079142452e-05}. Best is trial 5 with value: 0.995604395866394.\n",
            "<ipython-input-33-2c37c0ea39dd>:10: FutureWarning: suggest_uniform has been deprecated in v3.0.0. This feature will be removed in v6.0.0. See https://github.com/optuna/optuna/releases/tag/v3.0.0. Use suggest_float instead.\n",
            "  dropout_rate = trial.suggest_uniform('dropout_rate', 0.0, 0.5)\n",
            "<ipython-input-33-2c37c0ea39dd>:11: FutureWarning: suggest_loguniform has been deprecated in v3.0.0. This feature will be removed in v6.0.0. See https://github.com/optuna/optuna/releases/tag/v3.0.0. Use suggest_float(..., log=True) instead.\n",
            "  learning_rate = trial.suggest_loguniform('learning_rate', 1e-5, 1e-1)\n",
            "[I 2024-05-29 21:43:58,638] Trial 26 finished with value: 0.9890109896659851 and parameters: {'num_neurons': 43, 'dropout_rate': 0.37789772906094216, 'learning_rate': 0.008273711502067167}. Best is trial 5 with value: 0.995604395866394.\n",
            "<ipython-input-33-2c37c0ea39dd>:10: FutureWarning: suggest_uniform has been deprecated in v3.0.0. This feature will be removed in v6.0.0. See https://github.com/optuna/optuna/releases/tag/v3.0.0. Use suggest_float instead.\n",
            "  dropout_rate = trial.suggest_uniform('dropout_rate', 0.0, 0.5)\n",
            "<ipython-input-33-2c37c0ea39dd>:11: FutureWarning: suggest_loguniform has been deprecated in v3.0.0. This feature will be removed in v6.0.0. See https://github.com/optuna/optuna/releases/tag/v3.0.0. Use suggest_float(..., log=True) instead.\n",
            "  learning_rate = trial.suggest_loguniform('learning_rate', 1e-5, 1e-1)\n",
            "[I 2024-05-29 21:44:07,549] Trial 27 finished with value: 0.9824175834655762 and parameters: {'num_neurons': 98, 'dropout_rate': 0.22810915031578186, 'learning_rate': 0.018916328725995798}. Best is trial 5 with value: 0.995604395866394.\n",
            "<ipython-input-33-2c37c0ea39dd>:10: FutureWarning: suggest_uniform has been deprecated in v3.0.0. This feature will be removed in v6.0.0. See https://github.com/optuna/optuna/releases/tag/v3.0.0. Use suggest_float instead.\n",
            "  dropout_rate = trial.suggest_uniform('dropout_rate', 0.0, 0.5)\n",
            "<ipython-input-33-2c37c0ea39dd>:11: FutureWarning: suggest_loguniform has been deprecated in v3.0.0. This feature will be removed in v6.0.0. See https://github.com/optuna/optuna/releases/tag/v3.0.0. Use suggest_float(..., log=True) instead.\n",
            "  learning_rate = trial.suggest_loguniform('learning_rate', 1e-5, 1e-1)\n",
            "[I 2024-05-29 21:44:16,524] Trial 28 finished with value: 0.9890109896659851 and parameters: {'num_neurons': 64, 'dropout_rate': 0.29320291195773973, 'learning_rate': 0.0019512982659561987}. Best is trial 5 with value: 0.995604395866394.\n",
            "<ipython-input-33-2c37c0ea39dd>:10: FutureWarning: suggest_uniform has been deprecated in v3.0.0. This feature will be removed in v6.0.0. See https://github.com/optuna/optuna/releases/tag/v3.0.0. Use suggest_float instead.\n",
            "  dropout_rate = trial.suggest_uniform('dropout_rate', 0.0, 0.5)\n",
            "<ipython-input-33-2c37c0ea39dd>:11: FutureWarning: suggest_loguniform has been deprecated in v3.0.0. This feature will be removed in v6.0.0. See https://github.com/optuna/optuna/releases/tag/v3.0.0. Use suggest_float(..., log=True) instead.\n",
            "  learning_rate = trial.suggest_loguniform('learning_rate', 1e-5, 1e-1)\n",
            "[I 2024-05-29 21:44:25,450] Trial 29 finished with value: 0.9912087917327881 and parameters: {'num_neurons': 73, 'dropout_rate': 0.15312144386331522, 'learning_rate': 0.0005510209726184287}. Best is trial 5 with value: 0.995604395866394.\n",
            "<ipython-input-33-2c37c0ea39dd>:10: FutureWarning: suggest_uniform has been deprecated in v3.0.0. This feature will be removed in v6.0.0. See https://github.com/optuna/optuna/releases/tag/v3.0.0. Use suggest_float instead.\n",
            "  dropout_rate = trial.suggest_uniform('dropout_rate', 0.0, 0.5)\n",
            "<ipython-input-33-2c37c0ea39dd>:11: FutureWarning: suggest_loguniform has been deprecated in v3.0.0. This feature will be removed in v6.0.0. See https://github.com/optuna/optuna/releases/tag/v3.0.0. Use suggest_float(..., log=True) instead.\n",
            "  learning_rate = trial.suggest_loguniform('learning_rate', 1e-5, 1e-1)\n",
            "[I 2024-05-29 21:44:34,318] Trial 30 finished with value: 0.9846153855323792 and parameters: {'num_neurons': 27, 'dropout_rate': 0.10262449503778993, 'learning_rate': 0.023286791101176856}. Best is trial 5 with value: 0.995604395866394.\n",
            "<ipython-input-33-2c37c0ea39dd>:10: FutureWarning: suggest_uniform has been deprecated in v3.0.0. This feature will be removed in v6.0.0. See https://github.com/optuna/optuna/releases/tag/v3.0.0. Use suggest_float instead.\n",
            "  dropout_rate = trial.suggest_uniform('dropout_rate', 0.0, 0.5)\n",
            "<ipython-input-33-2c37c0ea39dd>:11: FutureWarning: suggest_loguniform has been deprecated in v3.0.0. This feature will be removed in v6.0.0. See https://github.com/optuna/optuna/releases/tag/v3.0.0. Use suggest_float(..., log=True) instead.\n",
            "  learning_rate = trial.suggest_loguniform('learning_rate', 1e-5, 1e-1)\n",
            "[I 2024-05-29 21:44:43,174] Trial 31 finished with value: 0.9890109896659851 and parameters: {'num_neurons': 66, 'dropout_rate': 0.040140565411838455, 'learning_rate': 0.00030714837285411833}. Best is trial 5 with value: 0.995604395866394.\n",
            "<ipython-input-33-2c37c0ea39dd>:10: FutureWarning: suggest_uniform has been deprecated in v3.0.0. This feature will be removed in v6.0.0. See https://github.com/optuna/optuna/releases/tag/v3.0.0. Use suggest_float instead.\n",
            "  dropout_rate = trial.suggest_uniform('dropout_rate', 0.0, 0.5)\n",
            "<ipython-input-33-2c37c0ea39dd>:11: FutureWarning: suggest_loguniform has been deprecated in v3.0.0. This feature will be removed in v6.0.0. See https://github.com/optuna/optuna/releases/tag/v3.0.0. Use suggest_float(..., log=True) instead.\n",
            "  learning_rate = trial.suggest_loguniform('learning_rate', 1e-5, 1e-1)\n",
            "[I 2024-05-29 21:44:52,061] Trial 32 finished with value: 0.9626373648643494 and parameters: {'num_neurons': 83, 'dropout_rate': 0.0777433275434404, 'learning_rate': 5.6534674652373685e-05}. Best is trial 5 with value: 0.995604395866394.\n",
            "<ipython-input-33-2c37c0ea39dd>:10: FutureWarning: suggest_uniform has been deprecated in v3.0.0. This feature will be removed in v6.0.0. See https://github.com/optuna/optuna/releases/tag/v3.0.0. Use suggest_float instead.\n",
            "  dropout_rate = trial.suggest_uniform('dropout_rate', 0.0, 0.5)\n",
            "<ipython-input-33-2c37c0ea39dd>:11: FutureWarning: suggest_loguniform has been deprecated in v3.0.0. This feature will be removed in v6.0.0. See https://github.com/optuna/optuna/releases/tag/v3.0.0. Use suggest_float(..., log=True) instead.\n",
            "  learning_rate = trial.suggest_loguniform('learning_rate', 1e-5, 1e-1)\n",
            "[I 2024-05-29 21:45:00,960] Trial 33 finished with value: 0.9912087917327881 and parameters: {'num_neurons': 68, 'dropout_rate': 0.17924636635779495, 'learning_rate': 0.00041983189830466884}. Best is trial 5 with value: 0.995604395866394.\n",
            "<ipython-input-33-2c37c0ea39dd>:10: FutureWarning: suggest_uniform has been deprecated in v3.0.0. This feature will be removed in v6.0.0. See https://github.com/optuna/optuna/releases/tag/v3.0.0. Use suggest_float instead.\n",
            "  dropout_rate = trial.suggest_uniform('dropout_rate', 0.0, 0.5)\n",
            "<ipython-input-33-2c37c0ea39dd>:11: FutureWarning: suggest_loguniform has been deprecated in v3.0.0. This feature will be removed in v6.0.0. See https://github.com/optuna/optuna/releases/tag/v3.0.0. Use suggest_float(..., log=True) instead.\n",
            "  learning_rate = trial.suggest_loguniform('learning_rate', 1e-5, 1e-1)\n",
            "[I 2024-05-29 21:45:09,783] Trial 34 finished with value: 0.9736263751983643 and parameters: {'num_neurons': 51, 'dropout_rate': 0.09746446593832284, 'learning_rate': 0.00015469097700714516}. Best is trial 5 with value: 0.995604395866394.\n",
            "<ipython-input-33-2c37c0ea39dd>:10: FutureWarning: suggest_uniform has been deprecated in v3.0.0. This feature will be removed in v6.0.0. See https://github.com/optuna/optuna/releases/tag/v3.0.0. Use suggest_float instead.\n",
            "  dropout_rate = trial.suggest_uniform('dropout_rate', 0.0, 0.5)\n",
            "<ipython-input-33-2c37c0ea39dd>:11: FutureWarning: suggest_loguniform has been deprecated in v3.0.0. This feature will be removed in v6.0.0. See https://github.com/optuna/optuna/releases/tag/v3.0.0. Use suggest_float(..., log=True) instead.\n",
            "  learning_rate = trial.suggest_loguniform('learning_rate', 1e-5, 1e-1)\n",
            "[I 2024-05-29 21:45:18,610] Trial 35 finished with value: 0.9912087917327881 and parameters: {'num_neurons': 91, 'dropout_rate': 0.037185843066490636, 'learning_rate': 0.0010298556791990558}. Best is trial 5 with value: 0.995604395866394.\n",
            "<ipython-input-33-2c37c0ea39dd>:10: FutureWarning: suggest_uniform has been deprecated in v3.0.0. This feature will be removed in v6.0.0. See https://github.com/optuna/optuna/releases/tag/v3.0.0. Use suggest_float instead.\n",
            "  dropout_rate = trial.suggest_uniform('dropout_rate', 0.0, 0.5)\n",
            "<ipython-input-33-2c37c0ea39dd>:11: FutureWarning: suggest_loguniform has been deprecated in v3.0.0. This feature will be removed in v6.0.0. See https://github.com/optuna/optuna/releases/tag/v3.0.0. Use suggest_float(..., log=True) instead.\n",
            "  learning_rate = trial.suggest_loguniform('learning_rate', 1e-5, 1e-1)\n",
            "[I 2024-05-29 21:45:27,464] Trial 36 finished with value: 0.9912087917327881 and parameters: {'num_neurons': 58, 'dropout_rate': 0.20488653982974547, 'learning_rate': 0.002367569568348379}. Best is trial 5 with value: 0.995604395866394.\n",
            "<ipython-input-33-2c37c0ea39dd>:10: FutureWarning: suggest_uniform has been deprecated in v3.0.0. This feature will be removed in v6.0.0. See https://github.com/optuna/optuna/releases/tag/v3.0.0. Use suggest_float instead.\n",
            "  dropout_rate = trial.suggest_uniform('dropout_rate', 0.0, 0.5)\n",
            "<ipython-input-33-2c37c0ea39dd>:11: FutureWarning: suggest_loguniform has been deprecated in v3.0.0. This feature will be removed in v6.0.0. See https://github.com/optuna/optuna/releases/tag/v3.0.0. Use suggest_float(..., log=True) instead.\n",
            "  learning_rate = trial.suggest_loguniform('learning_rate', 1e-5, 1e-1)\n",
            "[I 2024-05-29 21:45:36,378] Trial 37 finished with value: 0.9780219793319702 and parameters: {'num_neurons': 71, 'dropout_rate': 0.15706859049116617, 'learning_rate': 0.099147318420478}. Best is trial 5 with value: 0.995604395866394.\n",
            "<ipython-input-33-2c37c0ea39dd>:10: FutureWarning: suggest_uniform has been deprecated in v3.0.0. This feature will be removed in v6.0.0. See https://github.com/optuna/optuna/releases/tag/v3.0.0. Use suggest_float instead.\n",
            "  dropout_rate = trial.suggest_uniform('dropout_rate', 0.0, 0.5)\n",
            "<ipython-input-33-2c37c0ea39dd>:11: FutureWarning: suggest_loguniform has been deprecated in v3.0.0. This feature will be removed in v6.0.0. See https://github.com/optuna/optuna/releases/tag/v3.0.0. Use suggest_float(..., log=True) instead.\n",
            "  learning_rate = trial.suggest_loguniform('learning_rate', 1e-5, 1e-1)\n",
            "[I 2024-05-29 21:45:45,475] Trial 38 finished with value: 0.9692307710647583 and parameters: {'num_neurons': 80, 'dropout_rate': 0.4754244568353325, 'learning_rate': 0.0001129445516409997}. Best is trial 5 with value: 0.995604395866394.\n",
            "<ipython-input-33-2c37c0ea39dd>:10: FutureWarning: suggest_uniform has been deprecated in v3.0.0. This feature will be removed in v6.0.0. See https://github.com/optuna/optuna/releases/tag/v3.0.0. Use suggest_float instead.\n",
            "  dropout_rate = trial.suggest_uniform('dropout_rate', 0.0, 0.5)\n",
            "<ipython-input-33-2c37c0ea39dd>:11: FutureWarning: suggest_loguniform has been deprecated in v3.0.0. This feature will be removed in v6.0.0. See https://github.com/optuna/optuna/releases/tag/v3.0.0. Use suggest_float(..., log=True) instead.\n",
            "  learning_rate = trial.suggest_loguniform('learning_rate', 1e-5, 1e-1)\n",
            "[I 2024-05-29 21:45:54,359] Trial 39 finished with value: 0.9912087917327881 and parameters: {'num_neurons': 41, 'dropout_rate': 0.10959706844684342, 'learning_rate': 0.006126130199132884}. Best is trial 5 with value: 0.995604395866394.\n",
            "<ipython-input-33-2c37c0ea39dd>:10: FutureWarning: suggest_uniform has been deprecated in v3.0.0. This feature will be removed in v6.0.0. See https://github.com/optuna/optuna/releases/tag/v3.0.0. Use suggest_float instead.\n",
            "  dropout_rate = trial.suggest_uniform('dropout_rate', 0.0, 0.5)\n",
            "<ipython-input-33-2c37c0ea39dd>:11: FutureWarning: suggest_loguniform has been deprecated in v3.0.0. This feature will be removed in v6.0.0. See https://github.com/optuna/optuna/releases/tag/v3.0.0. Use suggest_float(..., log=True) instead.\n",
            "  learning_rate = trial.suggest_loguniform('learning_rate', 1e-5, 1e-1)\n",
            "[I 2024-05-29 21:46:03,201] Trial 40 finished with value: 0.9912087917327881 and parameters: {'num_neurons': 52, 'dropout_rate': 0.026109767168065345, 'learning_rate': 0.04884907633406025}. Best is trial 5 with value: 0.995604395866394.\n",
            "<ipython-input-33-2c37c0ea39dd>:10: FutureWarning: suggest_uniform has been deprecated in v3.0.0. This feature will be removed in v6.0.0. See https://github.com/optuna/optuna/releases/tag/v3.0.0. Use suggest_float instead.\n",
            "  dropout_rate = trial.suggest_uniform('dropout_rate', 0.0, 0.5)\n",
            "<ipython-input-33-2c37c0ea39dd>:11: FutureWarning: suggest_loguniform has been deprecated in v3.0.0. This feature will be removed in v6.0.0. See https://github.com/optuna/optuna/releases/tag/v3.0.0. Use suggest_float(..., log=True) instead.\n",
            "  learning_rate = trial.suggest_loguniform('learning_rate', 1e-5, 1e-1)\n",
            "[I 2024-05-29 21:46:11,980] Trial 41 finished with value: 0.9912087917327881 and parameters: {'num_neurons': 74, 'dropout_rate': 0.07169367604793792, 'learning_rate': 0.004728185428757724}. Best is trial 5 with value: 0.995604395866394.\n",
            "<ipython-input-33-2c37c0ea39dd>:10: FutureWarning: suggest_uniform has been deprecated in v3.0.0. This feature will be removed in v6.0.0. See https://github.com/optuna/optuna/releases/tag/v3.0.0. Use suggest_float instead.\n",
            "  dropout_rate = trial.suggest_uniform('dropout_rate', 0.0, 0.5)\n",
            "<ipython-input-33-2c37c0ea39dd>:11: FutureWarning: suggest_loguniform has been deprecated in v3.0.0. This feature will be removed in v6.0.0. See https://github.com/optuna/optuna/releases/tag/v3.0.0. Use suggest_float(..., log=True) instead.\n",
            "  learning_rate = trial.suggest_loguniform('learning_rate', 1e-5, 1e-1)\n",
            "[I 2024-05-29 21:46:21,337] Trial 42 finished with value: 0.9868131875991821 and parameters: {'num_neurons': 76, 'dropout_rate': 0.07731264605912697, 'learning_rate': 0.007756414853232395}. Best is trial 5 with value: 0.995604395866394.\n",
            "<ipython-input-33-2c37c0ea39dd>:10: FutureWarning: suggest_uniform has been deprecated in v3.0.0. This feature will be removed in v6.0.0. See https://github.com/optuna/optuna/releases/tag/v3.0.0. Use suggest_float instead.\n",
            "  dropout_rate = trial.suggest_uniform('dropout_rate', 0.0, 0.5)\n",
            "<ipython-input-33-2c37c0ea39dd>:11: FutureWarning: suggest_loguniform has been deprecated in v3.0.0. This feature will be removed in v6.0.0. See https://github.com/optuna/optuna/releases/tag/v3.0.0. Use suggest_float(..., log=True) instead.\n",
            "  learning_rate = trial.suggest_loguniform('learning_rate', 1e-5, 1e-1)\n",
            "[I 2024-05-29 21:46:30,324] Trial 43 finished with value: 0.9890109896659851 and parameters: {'num_neurons': 61, 'dropout_rate': 0.05557338345629897, 'learning_rate': 0.0010479642175452329}. Best is trial 5 with value: 0.995604395866394.\n",
            "<ipython-input-33-2c37c0ea39dd>:10: FutureWarning: suggest_uniform has been deprecated in v3.0.0. This feature will be removed in v6.0.0. See https://github.com/optuna/optuna/releases/tag/v3.0.0. Use suggest_float instead.\n",
            "  dropout_rate = trial.suggest_uniform('dropout_rate', 0.0, 0.5)\n",
            "<ipython-input-33-2c37c0ea39dd>:11: FutureWarning: suggest_loguniform has been deprecated in v3.0.0. This feature will be removed in v6.0.0. See https://github.com/optuna/optuna/releases/tag/v3.0.0. Use suggest_float(..., log=True) instead.\n",
            "  learning_rate = trial.suggest_loguniform('learning_rate', 1e-5, 1e-1)\n",
            "[I 2024-05-29 21:46:39,303] Trial 44 finished with value: 0.9890109896659851 and parameters: {'num_neurons': 92, 'dropout_rate': 0.022758873542736403, 'learning_rate': 0.0002568713791261291}. Best is trial 5 with value: 0.995604395866394.\n",
            "<ipython-input-33-2c37c0ea39dd>:10: FutureWarning: suggest_uniform has been deprecated in v3.0.0. This feature will be removed in v6.0.0. See https://github.com/optuna/optuna/releases/tag/v3.0.0. Use suggest_float instead.\n",
            "  dropout_rate = trial.suggest_uniform('dropout_rate', 0.0, 0.5)\n",
            "<ipython-input-33-2c37c0ea39dd>:11: FutureWarning: suggest_loguniform has been deprecated in v3.0.0. This feature will be removed in v6.0.0. See https://github.com/optuna/optuna/releases/tag/v3.0.0. Use suggest_float(..., log=True) instead.\n",
            "  learning_rate = trial.suggest_loguniform('learning_rate', 1e-5, 1e-1)\n",
            "[I 2024-05-29 21:46:48,185] Trial 45 finished with value: 0.9868131875991821 and parameters: {'num_neurons': 85, 'dropout_rate': 0.09656619235308922, 'learning_rate': 0.0258648205582785}. Best is trial 5 with value: 0.995604395866394.\n",
            "<ipython-input-33-2c37c0ea39dd>:10: FutureWarning: suggest_uniform has been deprecated in v3.0.0. This feature will be removed in v6.0.0. See https://github.com/optuna/optuna/releases/tag/v3.0.0. Use suggest_float instead.\n",
            "  dropout_rate = trial.suggest_uniform('dropout_rate', 0.0, 0.5)\n",
            "<ipython-input-33-2c37c0ea39dd>:11: FutureWarning: suggest_loguniform has been deprecated in v3.0.0. This feature will be removed in v6.0.0. See https://github.com/optuna/optuna/releases/tag/v3.0.0. Use suggest_float(..., log=True) instead.\n",
            "  learning_rate = trial.suggest_loguniform('learning_rate', 1e-5, 1e-1)\n",
            "[I 2024-05-29 21:46:57,042] Trial 46 finished with value: 0.9890109896659851 and parameters: {'num_neurons': 68, 'dropout_rate': 0.006391530209107283, 'learning_rate': 0.0014959090204884}. Best is trial 5 with value: 0.995604395866394.\n",
            "<ipython-input-33-2c37c0ea39dd>:10: FutureWarning: suggest_uniform has been deprecated in v3.0.0. This feature will be removed in v6.0.0. See https://github.com/optuna/optuna/releases/tag/v3.0.0. Use suggest_float instead.\n",
            "  dropout_rate = trial.suggest_uniform('dropout_rate', 0.0, 0.5)\n",
            "<ipython-input-33-2c37c0ea39dd>:11: FutureWarning: suggest_loguniform has been deprecated in v3.0.0. This feature will be removed in v6.0.0. See https://github.com/optuna/optuna/releases/tag/v3.0.0. Use suggest_float(..., log=True) instead.\n",
            "  learning_rate = trial.suggest_loguniform('learning_rate', 1e-5, 1e-1)\n",
            "[I 2024-05-29 21:47:05,958] Trial 47 finished with value: 0.9912087917327881 and parameters: {'num_neurons': 39, 'dropout_rate': 0.20301867387778583, 'learning_rate': 0.0006983023249142646}. Best is trial 5 with value: 0.995604395866394.\n",
            "<ipython-input-33-2c37c0ea39dd>:10: FutureWarning: suggest_uniform has been deprecated in v3.0.0. This feature will be removed in v6.0.0. See https://github.com/optuna/optuna/releases/tag/v3.0.0. Use suggest_float instead.\n",
            "  dropout_rate = trial.suggest_uniform('dropout_rate', 0.0, 0.5)\n",
            "<ipython-input-33-2c37c0ea39dd>:11: FutureWarning: suggest_loguniform has been deprecated in v3.0.0. This feature will be removed in v6.0.0. See https://github.com/optuna/optuna/releases/tag/v3.0.0. Use suggest_float(..., log=True) instead.\n",
            "  learning_rate = trial.suggest_loguniform('learning_rate', 1e-5, 1e-1)\n",
            "[I 2024-05-29 21:47:14,719] Trial 48 finished with value: 0.9670329689979553 and parameters: {'num_neurons': 55, 'dropout_rate': 0.12418595140378638, 'learning_rate': 8.989464501193407e-05}. Best is trial 5 with value: 0.995604395866394.\n",
            "<ipython-input-33-2c37c0ea39dd>:10: FutureWarning: suggest_uniform has been deprecated in v3.0.0. This feature will be removed in v6.0.0. See https://github.com/optuna/optuna/releases/tag/v3.0.0. Use suggest_float instead.\n",
            "  dropout_rate = trial.suggest_uniform('dropout_rate', 0.0, 0.5)\n",
            "<ipython-input-33-2c37c0ea39dd>:11: FutureWarning: suggest_loguniform has been deprecated in v3.0.0. This feature will be removed in v6.0.0. See https://github.com/optuna/optuna/releases/tag/v3.0.0. Use suggest_float(..., log=True) instead.\n",
            "  learning_rate = trial.suggest_loguniform('learning_rate', 1e-5, 1e-1)\n",
            "[I 2024-05-29 21:47:23,560] Trial 49 finished with value: 0.9846153855323792 and parameters: {'num_neurons': 49, 'dropout_rate': 0.05352773666624198, 'learning_rate': 0.05723815607745812}. Best is trial 5 with value: 0.995604395866394.\n"
          ]
        },
        {
          "output_type": "stream",
          "name": "stdout",
          "text": [
            "Best trial:\n",
            "  Value: 0.995604395866394\n",
            "  Params: \n",
            "    num_neurons: 78\n",
            "    dropout_rate: 0.017672940265103576\n",
            "    learning_rate: 0.01245459753309379\n"
          ]
        }
      ],
      "source": [
        "study = optuna.create_study(direction='maximize')\n",
        "study.optimize(objective, n_trials=50)\n",
        "\n",
        "print(\"Best trial:\")\n",
        "trial = study.best_trial\n",
        "print(f\"  Value: {trial.value}\")\n",
        "print(\"  Params: \")\n",
        "for key, value in trial.params.items():\n",
        "    print(f\"    {key}: {value}\")"
      ]
    },
    {
      "cell_type": "code",
      "source": [
        "best_params = study.best_trial.params\n",
        "print(best_params)\n"
      ],
      "metadata": {
        "colab": {
          "base_uri": "https://localhost:8080/"
        },
        "id": "xiYHHJxZZz28",
        "outputId": "4a0aa1c7-125f-4bf6-ab4f-6c5d8bd4bbc7"
      },
      "execution_count": 35,
      "outputs": [
        {
          "output_type": "stream",
          "name": "stdout",
          "text": [
            "{'num_neurons': 78, 'dropout_rate': 0.017672940265103576, 'learning_rate': 0.01245459753309379}\n"
          ]
        }
      ]
    },
    {
      "cell_type": "markdown",
      "source": [
        "#ANN"
      ],
      "metadata": {
        "id": "FcFzSnHPBlYI"
      }
    },
    {
      "cell_type": "code",
      "source": [
        "model = Sequential([\n",
        "    Dense(best_params['num_neurons'], activation='relu', input_shape=(X_train.shape[1],)),\n",
        "    Dropout(best_params['dropout_rate']),\n",
        "    Dense(1, activation='sigmoid')\n",
        "])\n"
      ],
      "metadata": {
        "id": "vR7Ib37jEoe8"
      },
      "execution_count": 36,
      "outputs": []
    },
    {
      "cell_type": "code",
      "source": [
        "optimizer = tf.keras.optimizers.Adam(learning_rate=best_params['learning_rate'])\n",
        "model.compile(optimizer=optimizer, loss='binary_crossentropy', metrics=['accuracy'])\n",
        "model.fit(X_train, y_train, epochs=50, batch_size=32, verbose=1, validation_split=0.2)\n"
      ],
      "metadata": {
        "id": "rp9jJFF3EzDg",
        "colab": {
          "base_uri": "https://localhost:8080/"
        },
        "outputId": "1b535c81-9faf-4702-ffc5-393679ccc27e"
      },
      "execution_count": 37,
      "outputs": [
        {
          "output_type": "stream",
          "name": "stdout",
          "text": [
            "Epoch 1/50\n",
            "12/12 [==============================] - 1s 18ms/step - loss: 0.2156 - accuracy: 0.9231 - val_loss: 0.1345 - val_accuracy: 0.9560\n",
            "Epoch 2/50\n",
            "12/12 [==============================] - 0s 5ms/step - loss: 0.0703 - accuracy: 0.9753 - val_loss: 0.1069 - val_accuracy: 0.9890\n",
            "Epoch 3/50\n",
            "12/12 [==============================] - 0s 6ms/step - loss: 0.0498 - accuracy: 0.9835 - val_loss: 0.1139 - val_accuracy: 0.9780\n",
            "Epoch 4/50\n",
            "12/12 [==============================] - 0s 5ms/step - loss: 0.0398 - accuracy: 0.9863 - val_loss: 0.1144 - val_accuracy: 0.9890\n",
            "Epoch 5/50\n",
            "12/12 [==============================] - 0s 5ms/step - loss: 0.0309 - accuracy: 0.9890 - val_loss: 0.1288 - val_accuracy: 0.9780\n",
            "Epoch 6/50\n",
            "12/12 [==============================] - 0s 5ms/step - loss: 0.0273 - accuracy: 0.9918 - val_loss: 0.1352 - val_accuracy: 0.9890\n",
            "Epoch 7/50\n",
            "12/12 [==============================] - 0s 5ms/step - loss: 0.0233 - accuracy: 0.9890 - val_loss: 0.1456 - val_accuracy: 0.9780\n",
            "Epoch 8/50\n",
            "12/12 [==============================] - 0s 5ms/step - loss: 0.0206 - accuracy: 0.9890 - val_loss: 0.1392 - val_accuracy: 0.9890\n",
            "Epoch 9/50\n",
            "12/12 [==============================] - 0s 5ms/step - loss: 0.0148 - accuracy: 0.9945 - val_loss: 0.1552 - val_accuracy: 0.9780\n",
            "Epoch 10/50\n",
            "12/12 [==============================] - 0s 5ms/step - loss: 0.0203 - accuracy: 0.9918 - val_loss: 0.1571 - val_accuracy: 0.9780\n",
            "Epoch 11/50\n",
            "12/12 [==============================] - 0s 5ms/step - loss: 0.0224 - accuracy: 0.9945 - val_loss: 0.1597 - val_accuracy: 0.9890\n",
            "Epoch 12/50\n",
            "12/12 [==============================] - 0s 5ms/step - loss: 0.0160 - accuracy: 0.9945 - val_loss: 0.1677 - val_accuracy: 0.9890\n",
            "Epoch 13/50\n",
            "12/12 [==============================] - 0s 5ms/step - loss: 0.0120 - accuracy: 0.9945 - val_loss: 0.1690 - val_accuracy: 0.9890\n",
            "Epoch 14/50\n",
            "12/12 [==============================] - 0s 5ms/step - loss: 0.0098 - accuracy: 0.9973 - val_loss: 0.1718 - val_accuracy: 0.9890\n",
            "Epoch 15/50\n",
            "12/12 [==============================] - 0s 5ms/step - loss: 0.0101 - accuracy: 0.9973 - val_loss: 0.1777 - val_accuracy: 0.9890\n",
            "Epoch 16/50\n",
            "12/12 [==============================] - 0s 5ms/step - loss: 0.0082 - accuracy: 1.0000 - val_loss: 0.1795 - val_accuracy: 0.9890\n",
            "Epoch 17/50\n",
            "12/12 [==============================] - 0s 6ms/step - loss: 0.0060 - accuracy: 1.0000 - val_loss: 0.1855 - val_accuracy: 0.9890\n",
            "Epoch 18/50\n",
            "12/12 [==============================] - 0s 5ms/step - loss: 0.0060 - accuracy: 1.0000 - val_loss: 0.1940 - val_accuracy: 0.9890\n",
            "Epoch 19/50\n",
            "12/12 [==============================] - 0s 6ms/step - loss: 0.0059 - accuracy: 0.9973 - val_loss: 0.1988 - val_accuracy: 0.9890\n",
            "Epoch 20/50\n",
            "12/12 [==============================] - 0s 5ms/step - loss: 0.0050 - accuracy: 1.0000 - val_loss: 0.2021 - val_accuracy: 0.9890\n",
            "Epoch 21/50\n",
            "12/12 [==============================] - 0s 5ms/step - loss: 0.0059 - accuracy: 0.9973 - val_loss: 0.2040 - val_accuracy: 0.9780\n",
            "Epoch 22/50\n",
            "12/12 [==============================] - 0s 5ms/step - loss: 0.0040 - accuracy: 1.0000 - val_loss: 0.2074 - val_accuracy: 0.9890\n",
            "Epoch 23/50\n",
            "12/12 [==============================] - 0s 5ms/step - loss: 0.0029 - accuracy: 1.0000 - val_loss: 0.2118 - val_accuracy: 0.9890\n",
            "Epoch 24/50\n",
            "12/12 [==============================] - 0s 5ms/step - loss: 0.0028 - accuracy: 1.0000 - val_loss: 0.2174 - val_accuracy: 0.9890\n",
            "Epoch 25/50\n",
            "12/12 [==============================] - 0s 5ms/step - loss: 0.0027 - accuracy: 1.0000 - val_loss: 0.2213 - val_accuracy: 0.9780\n",
            "Epoch 26/50\n",
            "12/12 [==============================] - 0s 5ms/step - loss: 0.0023 - accuracy: 1.0000 - val_loss: 0.2210 - val_accuracy: 0.9890\n",
            "Epoch 27/50\n",
            "12/12 [==============================] - 0s 5ms/step - loss: 0.0019 - accuracy: 1.0000 - val_loss: 0.2240 - val_accuracy: 0.9890\n",
            "Epoch 28/50\n",
            "12/12 [==============================] - 0s 5ms/step - loss: 0.0031 - accuracy: 1.0000 - val_loss: 0.2298 - val_accuracy: 0.9780\n",
            "Epoch 29/50\n",
            "12/12 [==============================] - 0s 5ms/step - loss: 0.0034 - accuracy: 1.0000 - val_loss: 0.2353 - val_accuracy: 0.9890\n",
            "Epoch 30/50\n",
            "12/12 [==============================] - 0s 5ms/step - loss: 0.0027 - accuracy: 1.0000 - val_loss: 0.2390 - val_accuracy: 0.9890\n",
            "Epoch 31/50\n",
            "12/12 [==============================] - 0s 5ms/step - loss: 0.0027 - accuracy: 1.0000 - val_loss: 0.2423 - val_accuracy: 0.9890\n",
            "Epoch 32/50\n",
            "12/12 [==============================] - 0s 5ms/step - loss: 0.0017 - accuracy: 1.0000 - val_loss: 0.2463 - val_accuracy: 0.9890\n",
            "Epoch 33/50\n",
            "12/12 [==============================] - 0s 5ms/step - loss: 0.0016 - accuracy: 1.0000 - val_loss: 0.2480 - val_accuracy: 0.9780\n",
            "Epoch 34/50\n",
            "12/12 [==============================] - 0s 5ms/step - loss: 0.0014 - accuracy: 1.0000 - val_loss: 0.2515 - val_accuracy: 0.9890\n",
            "Epoch 35/50\n",
            "12/12 [==============================] - 0s 5ms/step - loss: 0.0013 - accuracy: 1.0000 - val_loss: 0.2572 - val_accuracy: 0.9780\n",
            "Epoch 36/50\n",
            "12/12 [==============================] - 0s 5ms/step - loss: 0.0011 - accuracy: 1.0000 - val_loss: 0.2604 - val_accuracy: 0.9780\n",
            "Epoch 37/50\n",
            "12/12 [==============================] - 0s 5ms/step - loss: 0.0012 - accuracy: 1.0000 - val_loss: 0.2626 - val_accuracy: 0.9890\n",
            "Epoch 38/50\n",
            "12/12 [==============================] - 0s 5ms/step - loss: 0.0015 - accuracy: 1.0000 - val_loss: 0.2665 - val_accuracy: 0.9780\n",
            "Epoch 39/50\n",
            "12/12 [==============================] - 0s 5ms/step - loss: 0.0010 - accuracy: 1.0000 - val_loss: 0.2656 - val_accuracy: 0.9890\n",
            "Epoch 40/50\n",
            "12/12 [==============================] - 0s 5ms/step - loss: 0.0016 - accuracy: 1.0000 - val_loss: 0.2707 - val_accuracy: 0.9780\n",
            "Epoch 41/50\n",
            "12/12 [==============================] - 0s 6ms/step - loss: 0.0010 - accuracy: 1.0000 - val_loss: 0.2725 - val_accuracy: 0.9780\n",
            "Epoch 42/50\n",
            "12/12 [==============================] - 0s 5ms/step - loss: 6.9679e-04 - accuracy: 1.0000 - val_loss: 0.2750 - val_accuracy: 0.9890\n",
            "Epoch 43/50\n",
            "12/12 [==============================] - 0s 5ms/step - loss: 9.5776e-04 - accuracy: 1.0000 - val_loss: 0.2771 - val_accuracy: 0.9780\n",
            "Epoch 44/50\n",
            "12/12 [==============================] - 0s 5ms/step - loss: 6.8673e-04 - accuracy: 1.0000 - val_loss: 0.2825 - val_accuracy: 0.9780\n",
            "Epoch 45/50\n",
            "12/12 [==============================] - 0s 5ms/step - loss: 6.2614e-04 - accuracy: 1.0000 - val_loss: 0.2817 - val_accuracy: 0.9780\n",
            "Epoch 46/50\n",
            "12/12 [==============================] - 0s 5ms/step - loss: 5.4177e-04 - accuracy: 1.0000 - val_loss: 0.2815 - val_accuracy: 0.9780\n",
            "Epoch 47/50\n",
            "12/12 [==============================] - 0s 5ms/step - loss: 6.0513e-04 - accuracy: 1.0000 - val_loss: 0.2845 - val_accuracy: 0.9780\n",
            "Epoch 48/50\n",
            "12/12 [==============================] - 0s 5ms/step - loss: 5.4003e-04 - accuracy: 1.0000 - val_loss: 0.2876 - val_accuracy: 0.9780\n",
            "Epoch 49/50\n",
            "12/12 [==============================] - 0s 5ms/step - loss: 4.8050e-04 - accuracy: 1.0000 - val_loss: 0.2893 - val_accuracy: 0.9780\n",
            "Epoch 50/50\n",
            "12/12 [==============================] - 0s 5ms/step - loss: 5.0264e-04 - accuracy: 1.0000 - val_loss: 0.2909 - val_accuracy: 0.9780\n"
          ]
        },
        {
          "output_type": "execute_result",
          "data": {
            "text/plain": [
              "<keras.src.callbacks.History at 0x7fc8d47cf8b0>"
            ]
          },
          "metadata": {},
          "execution_count": 37
        }
      ]
    },
    {
      "cell_type": "markdown",
      "source": [
        "#Evaluations"
      ],
      "metadata": {
        "id": "LF7sDI1hKw45"
      }
    },
    {
      "cell_type": "code",
      "source": [
        "loss, accuracy = model.evaluate(X_test, y_test)\n",
        "print(f'Test Loss: {loss:.4f}, Test Accuracy: {accuracy:.4f}')\n"
      ],
      "metadata": {
        "colab": {
          "base_uri": "https://localhost:8080/"
        },
        "id": "E9pLj4rWMeLJ",
        "outputId": "bb635816-49d1-41b4-c590-3a9eceded401"
      },
      "execution_count": 38,
      "outputs": [
        {
          "output_type": "stream",
          "name": "stdout",
          "text": [
            "4/4 [==============================] - 0s 3ms/step - loss: 0.0596 - accuracy: 0.9912\n",
            "Test Loss: 0.0596, Test Accuracy: 0.9912\n"
          ]
        }
      ]
    },
    {
      "cell_type": "code",
      "source": [
        "from sklearn.metrics import confusion_matrix, classification_report\n",
        "\n",
        "predictions = model.predict(X_test)\n",
        "predictions = (predictions > 0.5).astype(int)\n",
        "print(confusion_matrix(y_test, predictions))\n",
        "print(classification_report(y_test, predictions))\n"
      ],
      "metadata": {
        "colab": {
          "base_uri": "https://localhost:8080/"
        },
        "id": "XLv5y23pa6Wl",
        "outputId": "f3d30ae6-fb9b-4cf1-f3c3-c650c1a2531d"
      },
      "execution_count": 39,
      "outputs": [
        {
          "output_type": "stream",
          "name": "stdout",
          "text": [
            "4/4 [==============================] - 0s 2ms/step\n",
            "[[65  1]\n",
            " [ 0 48]]\n",
            "              precision    recall  f1-score   support\n",
            "\n",
            "           0       1.00      0.98      0.99        66\n",
            "           1       0.98      1.00      0.99        48\n",
            "\n",
            "    accuracy                           0.99       114\n",
            "   macro avg       0.99      0.99      0.99       114\n",
            "weighted avg       0.99      0.99      0.99       114\n",
            "\n"
          ]
        }
      ]
    },
    {
      "cell_type": "code",
      "source": [
        "import matplotlib.pyplot as plt\n",
        "\n",
        "history = model.fit(X_train, y_train, epochs=50, batch_size=32, verbose=1, validation_split=0.2)\n",
        "\n",
        "plt.figure(figsize=(8, 4))\n",
        "plt.plot(history.history['accuracy'], label='Accuracy on training data')\n",
        "plt.plot(history.history['val_accuracy'], label='Accuracy on validation data')\n",
        "plt.title('Model Accuracy')\n",
        "plt.ylabel('Accuracy')\n",
        "plt.xlabel('Epoch')\n",
        "plt.legend()\n",
        "plt.show()\n",
        "\n",
        "plt.figure(figsize=(8, 4))\n",
        "plt.plot(history.history['loss'], label='Loss on training data')\n",
        "plt.plot(history.history['val_loss'], label='Loss on validation data')\n",
        "plt.title('Model Loss')\n",
        "plt.ylabel('Loss')\n",
        "plt.xlabel('Epoch')\n",
        "plt.legend()\n",
        "plt.show()\n"
      ],
      "metadata": {
        "colab": {
          "base_uri": "https://localhost:8080/",
          "height": 1000
        },
        "id": "Pg_R_VBphLHY",
        "outputId": "772cf05e-e92a-426e-cf8f-23f4ac78d942"
      },
      "execution_count": 40,
      "outputs": [
        {
          "output_type": "stream",
          "name": "stdout",
          "text": [
            "Epoch 1/50\n",
            "12/12 [==============================] - 0s 9ms/step - loss: 5.3538e-04 - accuracy: 1.0000 - val_loss: 0.2913 - val_accuracy: 0.9780\n",
            "Epoch 2/50\n",
            "12/12 [==============================] - 0s 5ms/step - loss: 0.0010 - accuracy: 1.0000 - val_loss: 0.2935 - val_accuracy: 0.9780\n",
            "Epoch 3/50\n",
            "12/12 [==============================] - 0s 5ms/step - loss: 0.0034 - accuracy: 1.0000 - val_loss: 0.2846 - val_accuracy: 0.9890\n",
            "Epoch 4/50\n",
            "12/12 [==============================] - 0s 5ms/step - loss: 0.0060 - accuracy: 0.9973 - val_loss: 0.2782 - val_accuracy: 0.9890\n",
            "Epoch 5/50\n",
            "12/12 [==============================] - 0s 5ms/step - loss: 0.0020 - accuracy: 1.0000 - val_loss: 0.2919 - val_accuracy: 0.9780\n",
            "Epoch 6/50\n",
            "12/12 [==============================] - 0s 5ms/step - loss: 0.0010 - accuracy: 1.0000 - val_loss: 0.3026 - val_accuracy: 0.9780\n",
            "Epoch 7/50\n",
            "12/12 [==============================] - 0s 5ms/step - loss: 5.9018e-04 - accuracy: 1.0000 - val_loss: 0.3088 - val_accuracy: 0.9780\n",
            "Epoch 8/50\n",
            "12/12 [==============================] - 0s 5ms/step - loss: 4.7044e-04 - accuracy: 1.0000 - val_loss: 0.3086 - val_accuracy: 0.9780\n",
            "Epoch 9/50\n",
            "12/12 [==============================] - 0s 5ms/step - loss: 5.2790e-04 - accuracy: 1.0000 - val_loss: 0.3094 - val_accuracy: 0.9780\n",
            "Epoch 10/50\n",
            "12/12 [==============================] - 0s 5ms/step - loss: 4.0886e-04 - accuracy: 1.0000 - val_loss: 0.3114 - val_accuracy: 0.9780\n",
            "Epoch 11/50\n",
            "12/12 [==============================] - 0s 5ms/step - loss: 3.8421e-04 - accuracy: 1.0000 - val_loss: 0.3116 - val_accuracy: 0.9780\n",
            "Epoch 12/50\n",
            "12/12 [==============================] - 0s 5ms/step - loss: 3.9142e-04 - accuracy: 1.0000 - val_loss: 0.3086 - val_accuracy: 0.9780\n",
            "Epoch 13/50\n",
            "12/12 [==============================] - 0s 5ms/step - loss: 3.6571e-04 - accuracy: 1.0000 - val_loss: 0.3093 - val_accuracy: 0.9780\n",
            "Epoch 14/50\n",
            "12/12 [==============================] - 0s 5ms/step - loss: 2.5768e-04 - accuracy: 1.0000 - val_loss: 0.3115 - val_accuracy: 0.9780\n",
            "Epoch 15/50\n",
            "12/12 [==============================] - 0s 5ms/step - loss: 2.6048e-04 - accuracy: 1.0000 - val_loss: 0.3127 - val_accuracy: 0.9780\n",
            "Epoch 16/50\n",
            "12/12 [==============================] - 0s 5ms/step - loss: 2.6688e-04 - accuracy: 1.0000 - val_loss: 0.3141 - val_accuracy: 0.9780\n",
            "Epoch 17/50\n",
            "12/12 [==============================] - 0s 5ms/step - loss: 3.6062e-04 - accuracy: 1.0000 - val_loss: 0.3181 - val_accuracy: 0.9780\n",
            "Epoch 18/50\n",
            "12/12 [==============================] - 0s 5ms/step - loss: 2.5953e-04 - accuracy: 1.0000 - val_loss: 0.3195 - val_accuracy: 0.9780\n",
            "Epoch 19/50\n",
            "12/12 [==============================] - 0s 6ms/step - loss: 2.3852e-04 - accuracy: 1.0000 - val_loss: 0.3204 - val_accuracy: 0.9780\n",
            "Epoch 20/50\n",
            "12/12 [==============================] - 0s 5ms/step - loss: 2.3207e-04 - accuracy: 1.0000 - val_loss: 0.3211 - val_accuracy: 0.9780\n",
            "Epoch 21/50\n",
            "12/12 [==============================] - 0s 5ms/step - loss: 3.5840e-04 - accuracy: 1.0000 - val_loss: 0.3233 - val_accuracy: 0.9780\n",
            "Epoch 22/50\n",
            "12/12 [==============================] - 0s 5ms/step - loss: 2.1325e-04 - accuracy: 1.0000 - val_loss: 0.3253 - val_accuracy: 0.9780\n",
            "Epoch 23/50\n",
            "12/12 [==============================] - 0s 5ms/step - loss: 3.5681e-04 - accuracy: 1.0000 - val_loss: 0.3269 - val_accuracy: 0.9780\n",
            "Epoch 24/50\n",
            "12/12 [==============================] - 0s 5ms/step - loss: 2.2597e-04 - accuracy: 1.0000 - val_loss: 0.3282 - val_accuracy: 0.9780\n",
            "Epoch 25/50\n",
            "12/12 [==============================] - 0s 5ms/step - loss: 2.5332e-04 - accuracy: 1.0000 - val_loss: 0.3294 - val_accuracy: 0.9780\n",
            "Epoch 26/50\n",
            "12/12 [==============================] - 0s 5ms/step - loss: 2.1305e-04 - accuracy: 1.0000 - val_loss: 0.3352 - val_accuracy: 0.9780\n",
            "Epoch 27/50\n",
            "12/12 [==============================] - 0s 5ms/step - loss: 2.1058e-04 - accuracy: 1.0000 - val_loss: 0.3377 - val_accuracy: 0.9780\n",
            "Epoch 28/50\n",
            "12/12 [==============================] - 0s 5ms/step - loss: 1.9233e-04 - accuracy: 1.0000 - val_loss: 0.3366 - val_accuracy: 0.9780\n",
            "Epoch 29/50\n",
            "12/12 [==============================] - 0s 5ms/step - loss: 1.9278e-04 - accuracy: 1.0000 - val_loss: 0.3351 - val_accuracy: 0.9780\n",
            "Epoch 30/50\n",
            "12/12 [==============================] - 0s 5ms/step - loss: 1.4995e-04 - accuracy: 1.0000 - val_loss: 0.3348 - val_accuracy: 0.9780\n",
            "Epoch 31/50\n",
            "12/12 [==============================] - 0s 5ms/step - loss: 1.7302e-04 - accuracy: 1.0000 - val_loss: 0.3368 - val_accuracy: 0.9780\n",
            "Epoch 32/50\n",
            "12/12 [==============================] - 0s 5ms/step - loss: 2.0833e-04 - accuracy: 1.0000 - val_loss: 0.3404 - val_accuracy: 0.9780\n",
            "Epoch 33/50\n",
            "12/12 [==============================] - 0s 5ms/step - loss: 1.6740e-04 - accuracy: 1.0000 - val_loss: 0.3396 - val_accuracy: 0.9780\n",
            "Epoch 34/50\n",
            "12/12 [==============================] - 0s 5ms/step - loss: 1.5314e-04 - accuracy: 1.0000 - val_loss: 0.3418 - val_accuracy: 0.9780\n",
            "Epoch 35/50\n",
            "12/12 [==============================] - 0s 6ms/step - loss: 1.5362e-04 - accuracy: 1.0000 - val_loss: 0.3425 - val_accuracy: 0.9780\n",
            "Epoch 36/50\n",
            "12/12 [==============================] - 0s 5ms/step - loss: 1.8598e-04 - accuracy: 1.0000 - val_loss: 0.3447 - val_accuracy: 0.9780\n",
            "Epoch 37/50\n",
            "12/12 [==============================] - 0s 5ms/step - loss: 1.1323e-04 - accuracy: 1.0000 - val_loss: 0.3452 - val_accuracy: 0.9780\n",
            "Epoch 38/50\n",
            "12/12 [==============================] - 0s 5ms/step - loss: 1.1555e-04 - accuracy: 1.0000 - val_loss: 0.3459 - val_accuracy: 0.9780\n",
            "Epoch 39/50\n",
            "12/12 [==============================] - 0s 5ms/step - loss: 1.1647e-04 - accuracy: 1.0000 - val_loss: 0.3463 - val_accuracy: 0.9780\n",
            "Epoch 40/50\n",
            "12/12 [==============================] - 0s 5ms/step - loss: 1.0212e-04 - accuracy: 1.0000 - val_loss: 0.3470 - val_accuracy: 0.9780\n",
            "Epoch 41/50\n",
            "12/12 [==============================] - 0s 5ms/step - loss: 1.1367e-04 - accuracy: 1.0000 - val_loss: 0.3485 - val_accuracy: 0.9780\n",
            "Epoch 42/50\n",
            "12/12 [==============================] - 0s 5ms/step - loss: 2.2170e-04 - accuracy: 1.0000 - val_loss: 0.3533 - val_accuracy: 0.9780\n",
            "Epoch 43/50\n",
            "12/12 [==============================] - 0s 5ms/step - loss: 1.3060e-04 - accuracy: 1.0000 - val_loss: 0.3548 - val_accuracy: 0.9780\n",
            "Epoch 44/50\n",
            "12/12 [==============================] - 0s 5ms/step - loss: 1.4627e-04 - accuracy: 1.0000 - val_loss: 0.3533 - val_accuracy: 0.9780\n",
            "Epoch 45/50\n",
            "12/12 [==============================] - 0s 5ms/step - loss: 1.8487e-04 - accuracy: 1.0000 - val_loss: 0.3527 - val_accuracy: 0.9780\n",
            "Epoch 46/50\n",
            "12/12 [==============================] - 0s 5ms/step - loss: 1.0430e-04 - accuracy: 1.0000 - val_loss: 0.3521 - val_accuracy: 0.9780\n",
            "Epoch 47/50\n",
            "12/12 [==============================] - 0s 5ms/step - loss: 1.3484e-04 - accuracy: 1.0000 - val_loss: 0.3503 - val_accuracy: 0.9780\n",
            "Epoch 48/50\n",
            "12/12 [==============================] - 0s 5ms/step - loss: 1.0988e-04 - accuracy: 1.0000 - val_loss: 0.3509 - val_accuracy: 0.9780\n",
            "Epoch 49/50\n",
            "12/12 [==============================] - 0s 5ms/step - loss: 9.4003e-05 - accuracy: 1.0000 - val_loss: 0.3513 - val_accuracy: 0.9780\n",
            "Epoch 50/50\n",
            "12/12 [==============================] - 0s 5ms/step - loss: 1.1380e-04 - accuracy: 1.0000 - val_loss: 0.3526 - val_accuracy: 0.9780\n"
          ]
        },
        {
          "output_type": "display_data",
          "data": {
            "text/plain": [
              "<Figure size 800x400 with 1 Axes>"
            ],
            "image/png": "[encoded data removed]"
          },
          "metadata": {}
        },
        {
          "output_type": "display_data",
          "data": {
            "text/plain": [
              "<Figure size 800x400 with 1 Axes>"
            ],
            "image/png": "[encoded data removed]"
          },
          "metadata": {}
        }
      ]
    },
    {
      "cell_type": "code",
      "source": [
        "from sklearn.metrics import confusion_matrix\n",
        "import seaborn as sns\n",
        "\n",
        "predictions = model.predict(X_test)\n",
        "predictions = (predictions > 0.5).astype(int)\n",
        "\n",
        "conf_mat = confusion_matrix(y_test, predictions)\n",
        "\n",
        "plt.figure(figsize=(6,6))\n",
        "sns.heatmap(conf_mat, annot=True, fmt='d', cmap='Blues', cbar=False)\n",
        "plt.xlabel('Predicted Label')\n",
        "plt.ylabel('True Label')\n",
        "plt.title('Confusion Matrix')\n",
        "plt.show()\n"
      ],
      "metadata": {
        "colab": {
          "base_uri": "https://localhost:8080/",
          "height": 581
        },
        "id": "vdluE44phT51",
        "outputId": "93baf02a-ceb6-420d-b9ed-9af7699ff249"
      },
      "execution_count": 41,
      "outputs": [
        {
          "output_type": "stream",
          "name": "stdout",
          "text": [
            "4/4 [==============================] - 0s 2ms/step\n"
          ]
        },
        {
          "output_type": "display_data",
          "data": {
            "text/plain": [
              "<Figure size 600x600 with 1 Axes>"
            ],
            "image/png": "[encoded data removed]"
          },
          "metadata": {}
        }
      ]
    }
  ],
  "metadata": {
    "colab": {
      "provenance": [],
      "machine_shape": "hm",
      "gpuType": "L4"
    },
    "kernelspec": {
      "display_name": "Python 3",
      "name": "python3"
    },
    "language_info": {
      "name": "python"
    },
    "accelerator": "GPU"
  },
  "nbformat": 4,
  "nbformat_minor": 0
}